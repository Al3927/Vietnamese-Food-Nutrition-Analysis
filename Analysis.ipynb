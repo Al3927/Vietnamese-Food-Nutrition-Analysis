{
  "nbformat": 4,
  "nbformat_minor": 5,
  "metadata": {
    "kernelspec": {
      "display_name": "Python 3",
      "language": "python",
      "name": "python3"
    },
    "language_info": {
      "codemirror_mode": {
        "name": "ipython",
        "version": 3
      },
      "file_extension": ".py",
      "mimetype": "text/x-python",
      "name": "python",
      "nbconvert_exporter": "python",
      "pygments_lexer": "ipython3",
      "version": "3.8.8"
    },
    "colab": {
      "name": "Analysis.ipynb",
      "provenance": [],
      "toc_visible": true
    }
  },
  "cells": [
    {
      "cell_type": "markdown",
      "metadata": {
        "id": "YXM_-X3aQLN5"
      },
      "source": [
        "## Make\n"
      ],
      "id": "YXM_-X3aQLN5"
    },
    {
      "cell_type": "code",
      "metadata": {
        "colab": {
          "base_uri": "https://localhost:8080/"
        },
        "id": "f9739f3d-8eed-4131-bb87-1fc21a033733",
        "outputId": "0b23aca7-0b75-4ed5-af01-2c34f8375665"
      },
      "source": [
        "!pip install pandas-highcharts"
      ],
      "id": "f9739f3d-8eed-4131-bb87-1fc21a033733",
      "execution_count": 109,
      "outputs": [
        {
          "output_type": "stream",
          "text": [
            "Requirement already satisfied: pandas-highcharts in /usr/local/lib/python3.7/dist-packages (0.5.2)\n",
            "Requirement already satisfied: ipython in /usr/local/lib/python3.7/dist-packages (from pandas-highcharts) (5.5.0)\n",
            "Requirement already satisfied: pandas in /usr/local/lib/python3.7/dist-packages (from pandas-highcharts) (1.1.5)\n",
            "Requirement already satisfied: coverage in /usr/local/lib/python3.7/dist-packages (from pandas-highcharts) (3.7.1)\n",
            "Requirement already satisfied: pickleshare in /usr/local/lib/python3.7/dist-packages (from ipython->pandas-highcharts) (0.7.5)\n",
            "Requirement already satisfied: pexpect; sys_platform != \"win32\" in /usr/local/lib/python3.7/dist-packages (from ipython->pandas-highcharts) (4.8.0)\n",
            "Requirement already satisfied: pygments in /usr/local/lib/python3.7/dist-packages (from ipython->pandas-highcharts) (2.6.1)\n",
            "Requirement already satisfied: traitlets>=4.2 in /usr/local/lib/python3.7/dist-packages (from ipython->pandas-highcharts) (5.0.5)\n",
            "Requirement already satisfied: setuptools>=18.5 in /usr/local/lib/python3.7/dist-packages (from ipython->pandas-highcharts) (57.0.0)\n",
            "Requirement already satisfied: prompt-toolkit<2.0.0,>=1.0.4 in /usr/local/lib/python3.7/dist-packages (from ipython->pandas-highcharts) (1.0.18)\n",
            "Requirement already satisfied: simplegeneric>0.8 in /usr/local/lib/python3.7/dist-packages (from ipython->pandas-highcharts) (0.8.1)\n",
            "Requirement already satisfied: decorator in /usr/local/lib/python3.7/dist-packages (from ipython->pandas-highcharts) (4.4.2)\n",
            "Requirement already satisfied: numpy>=1.15.4 in /usr/local/lib/python3.7/dist-packages (from pandas->pandas-highcharts) (1.19.5)\n",
            "Requirement already satisfied: python-dateutil>=2.7.3 in /usr/local/lib/python3.7/dist-packages (from pandas->pandas-highcharts) (2.8.1)\n",
            "Requirement already satisfied: pytz>=2017.2 in /usr/local/lib/python3.7/dist-packages (from pandas->pandas-highcharts) (2018.9)\n",
            "Requirement already satisfied: ptyprocess>=0.5 in /usr/local/lib/python3.7/dist-packages (from pexpect; sys_platform != \"win32\"->ipython->pandas-highcharts) (0.7.0)\n",
            "Requirement already satisfied: ipython-genutils in /usr/local/lib/python3.7/dist-packages (from traitlets>=4.2->ipython->pandas-highcharts) (0.2.0)\n",
            "Requirement already satisfied: wcwidth in /usr/local/lib/python3.7/dist-packages (from prompt-toolkit<2.0.0,>=1.0.4->ipython->pandas-highcharts) (0.2.5)\n",
            "Requirement already satisfied: six>=1.9.0 in /usr/local/lib/python3.7/dist-packages (from prompt-toolkit<2.0.0,>=1.0.4->ipython->pandas-highcharts) (1.15.0)\n"
          ],
          "name": "stdout"
        }
      ]
    },
    {
      "cell_type": "code",
      "metadata": {
        "id": "fbb1d4c9-42bb-43af-afb4-2bf5de22a796"
      },
      "source": [
        "import os\n",
        "import datetime\n",
        "\n",
        "import IPython\n",
        "import IPython.display\n",
        "import requests\n",
        "import json\n",
        "import time\n",
        "import math\n",
        "import re\n",
        "import pandas as pd\n",
        "import numpy as np\n",
        "%matplotlib inline\n",
        "import matplotlib as mpl\n",
        "import matplotlib.pyplot as plt\n",
        "from  matplotlib.ticker import PercentFormatter\n",
        "import seaborn as sns\n",
        " \n",
        "from sklearn.model_selection import train_test_split\n",
        "from sklearn.model_selection import GridSearchCV\n",
        "from sklearn.compose import ColumnTransformer\n",
        "from sklearn.compose import make_column_transformer\n",
        "from sklearn.preprocessing import OneHotEncoder\n",
        "from sklearn.preprocessing import StandardScaler\n",
        "from sklearn.base import BaseEstimator, TransformerMixin\n",
        "from sklearn.impute import SimpleImputer\n",
        "from sklearn.pipeline import Pipeline, make_pipeline\n",
        " \n",
        "from sklearn import set_config\n",
        "# set_config(display='diagram') # Để trực quan hóa pipeline\n",
        " \n",
        "from sklearn.neural_network import MLPRegressor\n",
        "from sklearn.linear_model import LinearRegression, SGDRegressor\n",
        "from sklearn.utils import resample\n",
        "\n",
        "from pandas_highcharts.display import display_charts\n",
        "from pandas_highcharts.display import load_highcharts\n",
        "from pandas_highcharts.core import serialize\n",
        "from IPython.core.display import display, HTML\n",
        "from pandas_highcharts.core import json_encode"
      ],
      "id": "fbb1d4c9-42bb-43af-afb4-2bf5de22a796",
      "execution_count": 110,
      "outputs": []
    },
    {
      "cell_type": "code",
      "metadata": {
        "id": "45513eda-4bf7-4e99-82ba-5e0d77865a55"
      },
      "source": [
        "#Set Option\n",
        "pd.set_option('max_colwidth', None)\n",
        "pd.set_option('display.max_rows', None)\n",
        "pd.set_option('display.max_columns', None)\n",
        "pd.set_option('display.width', None)\n",
        "sns.set_theme()"
      ],
      "id": "45513eda-4bf7-4e99-82ba-5e0d77865a55",
      "execution_count": 111,
      "outputs": []
    },
    {
      "cell_type": "markdown",
      "metadata": {
        "id": "kiwFH8XxQRVz"
      },
      "source": [
        "## Data"
      ],
      "id": "kiwFH8XxQRVz"
    },
    {
      "cell_type": "markdown",
      "metadata": {
        "id": "A3kAoGy0VmB-"
      },
      "source": [
        "Food Science Data\n",
        "\n",
        "We want to introduce Vietnamese food and its nutrition to our foreign friends"
      ],
      "id": "A3kAoGy0VmB-"
    },
    {
      "cell_type": "markdown",
      "metadata": {
        "id": "cZrzBk-AQTUy"
      },
      "source": [
        "Ebook: https://drive.google.com/file/d/0B4RM9E8In1vFX1RYcEFDQ1VwZ1k/view (provided by Ministry of Health of Vietnam)\n",
        "\n",
        "Xls: https://drive.google.com/file/d/0B4RM9E8In1vFS2VVaFBLLUkwZlU/view?resourcekey=0-NrWigVtiVKokEIFJ0HBdcg (Extract by thehinh.com)\n"
      ],
      "id": "cZrzBk-AQTUy"
    },
    {
      "cell_type": "markdown",
      "metadata": {
        "id": "7YaUL1aPVGiy"
      },
      "source": [
        "## Import Data"
      ],
      "id": "7YaUL1aPVGiy"
    },
    {
      "cell_type": "code",
      "metadata": {
        "id": "8d93d396-dedd-4438-9afd-605a2e0298eb"
      },
      "source": [
        "df = pd.read_excel(\"https://github.com/Al3927/Vietnamese-Food-Nutrition-Analysis/blob/main/data/data.xlsx?raw=true\")"
      ],
      "id": "8d93d396-dedd-4438-9afd-605a2e0298eb",
      "execution_count": 159,
      "outputs": []
    },
    {
      "cell_type": "code",
      "metadata": {
        "colab": {
          "base_uri": "https://localhost:8080/",
          "height": 604
        },
        "id": "424ed30c-498c-4819-8900-a1e4c4a073be",
        "outputId": "a5038336-2fef-4584-84a8-2a9f55dd49e9"
      },
      "source": [
        "df.head(3)"
      ],
      "id": "424ed30c-498c-4819-8900-a1e4c4a073be",
      "execution_count": 149,
      "outputs": [
        {
          "output_type": "execute_result",
          "data": {
            "text/html": [
              "<div>\n",
              "<style scoped>\n",
              "    .dataframe tbody tr th:only-of-type {\n",
              "        vertical-align: middle;\n",
              "    }\n",
              "\n",
              "    .dataframe tbody tr th {\n",
              "        vertical-align: top;\n",
              "    }\n",
              "\n",
              "    .dataframe thead th {\n",
              "        text-align: right;\n",
              "    }\n",
              "</style>\n",
              "<table border=\"1\" class=\"dataframe\">\n",
              "  <thead>\n",
              "    <tr style=\"text-align: right;\">\n",
              "      <th></th>\n",
              "      <th>TÊN THỨC ĂN</th>\n",
              "      <th>Calories (kcal)</th>\n",
              "      <th>Protein (g)</th>\n",
              "      <th>Fat (g)</th>\n",
              "      <th>Carbonhydrates (g)</th>\n",
              "      <th>Chất xơ (g)</th>\n",
              "      <th>Cholesterol (mg)</th>\n",
              "      <th>Canxi (mg)</th>\n",
              "      <th>Photpho (mg)</th>\n",
              "      <th>Sắt (mg)</th>\n",
              "      <th>Natri (mg)</th>\n",
              "      <th>Kali (mg)</th>\n",
              "      <th>Beta Caroten (mcg)</th>\n",
              "      <th>Vitamin A (mcg)</th>\n",
              "      <th>Vitamin B1 (mg)</th>\n",
              "      <th>Vitamin C (mg)</th>\n",
              "      <th>Loại</th>\n",
              "    </tr>\n",
              "  </thead>\n",
              "  <tbody>\n",
              "    <tr>\n",
              "      <th>0</th>\n",
              "      <td>Gạo nếp cái</td>\n",
              "      <td>346</td>\n",
              "      <td>8,6</td>\n",
              "      <td>1,5</td>\n",
              "      <td>74,9</td>\n",
              "      <td>0,6</td>\n",
              "      <td>0</td>\n",
              "      <td>32</td>\n",
              "      <td>98</td>\n",
              "      <td>1,2</td>\n",
              "      <td>3</td>\n",
              "      <td>282</td>\n",
              "      <td>0</td>\n",
              "      <td>0</td>\n",
              "      <td>0,14</td>\n",
              "      <td>0,0</td>\n",
              "      <td>Ngũ cốc và sản phẩm chế biến từ chúng</td>\n",
              "    </tr>\n",
              "    <tr>\n",
              "      <th>1</th>\n",
              "      <td>Gạo tẻ</td>\n",
              "      <td>344</td>\n",
              "      <td>7,9</td>\n",
              "      <td>1,0</td>\n",
              "      <td>76,2</td>\n",
              "      <td>0,4</td>\n",
              "      <td>0</td>\n",
              "      <td>30</td>\n",
              "      <td>104,0</td>\n",
              "      <td>1,3</td>\n",
              "      <td>5</td>\n",
              "      <td>241</td>\n",
              "      <td>0</td>\n",
              "      <td>0</td>\n",
              "      <td>0,10</td>\n",
              "      <td>0,0</td>\n",
              "      <td>Ngũ cốc và sản phẩm chế biến từ chúng</td>\n",
              "    </tr>\n",
              "    <tr>\n",
              "      <th>2</th>\n",
              "      <td>Bắp tươi</td>\n",
              "      <td>196</td>\n",
              "      <td>4,1</td>\n",
              "      <td>2,3</td>\n",
              "      <td>39,6</td>\n",
              "      <td>1,2</td>\n",
              "      <td>0</td>\n",
              "      <td>20</td>\n",
              "      <td>187,0</td>\n",
              "      <td>1,5</td>\n",
              "      <td>0</td>\n",
              "      <td>0</td>\n",
              "      <td>170</td>\n",
              "      <td>0</td>\n",
              "      <td>0,21</td>\n",
              "      <td>0,0</td>\n",
              "      <td>Ngũ cốc và sản phẩm chế biến từ chúng</td>\n",
              "    </tr>\n",
              "  </tbody>\n",
              "</table>\n",
              "</div>"
            ],
            "text/plain": [
              "   TÊN THỨC ĂN  Calories (kcal) Protein (g) Fat (g) Carbonhydrates (g)  \\\n",
              "0  Gạo nếp cái              346         8,6     1,5               74,9   \n",
              "1       Gạo tẻ              344         7,9     1,0               76,2   \n",
              "2     Bắp tươi              196         4,1     2,3               39,6   \n",
              "\n",
              "  Chất xơ (g)  Cholesterol (mg)  Canxi (mg) Photpho (mg) Sắt (mg) Natri (mg)  \\\n",
              "0         0,6                 0          32           98      1,2          3   \n",
              "1         0,4                 0          30        104,0      1,3          5   \n",
              "2         1,2                 0          20        187,0      1,5          0   \n",
              "\n",
              "   Kali (mg)  Beta Caroten (mcg) Vitamin A (mcg) Vitamin B1 (mg)  \\\n",
              "0        282                   0               0            0,14   \n",
              "1        241                   0               0            0,10   \n",
              "2          0                 170               0            0,21   \n",
              "\n",
              "  Vitamin C (mg)                                   Loại  \n",
              "0            0,0  Ngũ cốc và sản phẩm chế biến từ chúng  \n",
              "1            0,0  Ngũ cốc và sản phẩm chế biến từ chúng  \n",
              "2            0,0  Ngũ cốc và sản phẩm chế biến từ chúng  "
            ]
          },
          "metadata": {
            "tags": []
          },
          "execution_count": 149
        }
      ]
    },
    {
      "cell_type": "markdown",
      "metadata": {
        "id": "4KzcCn9UX3kB"
      },
      "source": [
        "## Data Exploration (simple) & Preprocessing"
      ],
      "id": "4KzcCn9UX3kB"
    },
    {
      "cell_type": "code",
      "metadata": {
        "colab": {
          "base_uri": "https://localhost:8080/"
        },
        "id": "9748895b-40cd-44b6-a806-f425f055e4bf",
        "outputId": "f15da8c6-6220-4530-d547-9aff839b1492"
      },
      "source": [
        "df.shape"
      ],
      "id": "9748895b-40cd-44b6-a806-f425f055e4bf",
      "execution_count": 150,
      "outputs": [
        {
          "output_type": "execute_result",
          "data": {
            "text/plain": [
              "(162, 17)"
            ]
          },
          "metadata": {
            "tags": []
          },
          "execution_count": 150
        }
      ]
    },
    {
      "cell_type": "markdown",
      "metadata": {
        "id": "yPQfej1gmSIc"
      },
      "source": [
        "### Change type col"
      ],
      "id": "yPQfej1gmSIc"
    },
    {
      "cell_type": "code",
      "metadata": {
        "colab": {
          "base_uri": "https://localhost:8080/"
        },
        "id": "lwh049b8VDmu",
        "outputId": "ab8b8197-7f73-4802-a33e-59b367feefa1"
      },
      "source": [
        "df.info()"
      ],
      "id": "lwh049b8VDmu",
      "execution_count": 151,
      "outputs": [
        {
          "output_type": "stream",
          "text": [
            "<class 'pandas.core.frame.DataFrame'>\n",
            "RangeIndex: 162 entries, 0 to 161\n",
            "Data columns (total 17 columns):\n",
            " #   Column              Non-Null Count  Dtype \n",
            "---  ------              --------------  ----- \n",
            " 0   TÊN THỨC ĂN         162 non-null    object\n",
            " 1   Calories (kcal)     162 non-null    int64 \n",
            " 2   Protein (g)         162 non-null    object\n",
            " 3   Fat (g)             162 non-null    object\n",
            " 4   Carbonhydrates (g)  162 non-null    object\n",
            " 5   Chất xơ (g)         162 non-null    object\n",
            " 6   Cholesterol (mg)    162 non-null    int64 \n",
            " 7   Canxi (mg)          162 non-null    int64 \n",
            " 8   Photpho (mg)        162 non-null    object\n",
            " 9   Sắt (mg)            162 non-null    object\n",
            " 10  Natri (mg)          162 non-null    object\n",
            " 11  Kali (mg)           162 non-null    int64 \n",
            " 12  Beta Caroten (mcg)  162 non-null    int64 \n",
            " 13  Vitamin A (mcg)     162 non-null    object\n",
            " 14  Vitamin B1 (mg)     162 non-null    object\n",
            " 15  Vitamin C (mg)      162 non-null    object\n",
            " 16  Loại                162 non-null    object\n",
            "dtypes: int64(5), object(12)\n",
            "memory usage: 21.6+ KB\n"
          ],
          "name": "stdout"
        }
      ]
    },
    {
      "cell_type": "code",
      "metadata": {
        "id": "EkplRzjLbA6f"
      },
      "source": [
        "numeric_column = df.select_dtypes(include = 'object').columns.copy()\n",
        "# numeric_column\n",
        "numeric_column = np.delete(numeric_column, [0,11])"
      ],
      "id": "EkplRzjLbA6f",
      "execution_count": 160,
      "outputs": []
    },
    {
      "cell_type": "code",
      "metadata": {
        "id": "cJnATx8PZ_Uu"
      },
      "source": [
        "def changecol(val):\n",
        "    if type(val) == str:\n",
        "        val =  val.replace(\",\",\".\")\n",
        "        val = re.findall(r'\\d+',val)[0]\n",
        "        return val\n",
        "    else:\n",
        "        return val"
      ],
      "id": "cJnATx8PZ_Uu",
      "execution_count": 161,
      "outputs": []
    },
    {
      "cell_type": "code",
      "metadata": {
        "colab": {
          "base_uri": "https://localhost:8080/"
        },
        "id": "DA5OnwXnbTKb",
        "outputId": "729f2362-3498-404f-86e9-932f652bbd17"
      },
      "source": [
        "numeric_column"
      ],
      "id": "DA5OnwXnbTKb",
      "execution_count": 162,
      "outputs": [
        {
          "output_type": "execute_result",
          "data": {
            "text/plain": [
              "Index(['Protein (g)', 'Fat (g)', 'Carbonhydrates (g)', 'Chất xơ (g)',\n",
              "       'Photpho (mg)', 'Sắt (mg)', 'Natri (mg)', 'Vitamin A (mcg)',\n",
              "       'Vitamin B1 (mg)', 'Vitamin C (mg)'],\n",
              "      dtype='object')"
            ]
          },
          "metadata": {
            "tags": []
          },
          "execution_count": 162
        }
      ]
    },
    {
      "cell_type": "code",
      "metadata": {
        "id": "VsNS8c2KZMW3"
      },
      "source": [
        "\n",
        "for col in numeric_column:\n",
        "    # df[col] = df[col].agg(changecol)\n",
        "    df[col] = df.apply(lambda row: changecol(row[col]), axis=1)\n",
        "    df[col] = df[col].astype(float)"
      ],
      "id": "VsNS8c2KZMW3",
      "execution_count": 163,
      "outputs": []
    },
    {
      "cell_type": "code",
      "metadata": {
        "colab": {
          "base_uri": "https://localhost:8080/"
        },
        "id": "cPCRQb7UmWRq",
        "outputId": "e050c015-0851-4b42-8489-c6243d0a6f57"
      },
      "source": [
        "df.info()"
      ],
      "id": "cPCRQb7UmWRq",
      "execution_count": 164,
      "outputs": [
        {
          "output_type": "stream",
          "text": [
            "<class 'pandas.core.frame.DataFrame'>\n",
            "RangeIndex: 162 entries, 0 to 161\n",
            "Data columns (total 17 columns):\n",
            " #   Column              Non-Null Count  Dtype  \n",
            "---  ------              --------------  -----  \n",
            " 0   TÊN THỨC ĂN         162 non-null    object \n",
            " 1   Calories (kcal)     162 non-null    int64  \n",
            " 2   Protein (g)         162 non-null    float64\n",
            " 3   Fat (g)             162 non-null    float64\n",
            " 4   Carbonhydrates (g)  162 non-null    float64\n",
            " 5   Chất xơ (g)         162 non-null    float64\n",
            " 6   Cholesterol (mg)    162 non-null    int64  \n",
            " 7   Canxi (mg)          162 non-null    int64  \n",
            " 8   Photpho (mg)        162 non-null    float64\n",
            " 9   Sắt (mg)            162 non-null    float64\n",
            " 10  Natri (mg)          162 non-null    float64\n",
            " 11  Kali (mg)           162 non-null    int64  \n",
            " 12  Beta Caroten (mcg)  162 non-null    int64  \n",
            " 13  Vitamin A (mcg)     162 non-null    float64\n",
            " 14  Vitamin B1 (mg)     162 non-null    float64\n",
            " 15  Vitamin C (mg)      162 non-null    float64\n",
            " 16  Loại                162 non-null    object \n",
            "dtypes: float64(10), int64(5), object(2)\n",
            "memory usage: 21.6+ KB\n"
          ],
          "name": "stdout"
        }
      ]
    },
    {
      "cell_type": "markdown",
      "metadata": {
        "id": "yKb-es1_nuFm"
      },
      "source": [
        "### Distribution of numeric feature"
      ],
      "id": "yKb-es1_nuFm"
    },
    {
      "cell_type": "code",
      "metadata": {
        "id": "OCOhVJ2DnxiF",
        "outputId": "2fc72419-e3c5-4007-b312-f1bab9cabce4",
        "colab": {
          "base_uri": "https://localhost:8080/",
          "height": 289
        }
      },
      "source": [
        "#Tham khảo [1]\n",
        "def missing_ratio(df):\n",
        "    return (df.isna().mean() * 100).round(1)\n",
        "def lower_quartile(df):\n",
        "    return df.quantile(0.25)\n",
        "def median(df):\n",
        "    return df.quantile(0.5)\n",
        "def upper_quartile(df):\n",
        "    return df.quantile(0.75)\n",
        "\n",
        "numeric_column = df.select_dtypes(exclude = 'object').columns\n",
        "num_df = df[numeric_column].copy()\n",
        "num_col_info_df = num_df.agg([missing_ratio, min, lower_quartile, median, upper_quartile, max]).round(1)\n",
        "num_col_info_df\n"
      ],
      "id": "OCOhVJ2DnxiF",
      "execution_count": 165,
      "outputs": [
        {
          "output_type": "execute_result",
          "data": {
            "text/html": [
              "<div>\n",
              "<style scoped>\n",
              "    .dataframe tbody tr th:only-of-type {\n",
              "        vertical-align: middle;\n",
              "    }\n",
              "\n",
              "    .dataframe tbody tr th {\n",
              "        vertical-align: top;\n",
              "    }\n",
              "\n",
              "    .dataframe thead th {\n",
              "        text-align: right;\n",
              "    }\n",
              "</style>\n",
              "<table border=\"1\" class=\"dataframe\">\n",
              "  <thead>\n",
              "    <tr style=\"text-align: right;\">\n",
              "      <th></th>\n",
              "      <th>Calories (kcal)</th>\n",
              "      <th>Protein (g)</th>\n",
              "      <th>Fat (g)</th>\n",
              "      <th>Carbonhydrates (g)</th>\n",
              "      <th>Chất xơ (g)</th>\n",
              "      <th>Cholesterol (mg)</th>\n",
              "      <th>Canxi (mg)</th>\n",
              "      <th>Photpho (mg)</th>\n",
              "      <th>Sắt (mg)</th>\n",
              "      <th>Natri (mg)</th>\n",
              "      <th>Kali (mg)</th>\n",
              "      <th>Beta Caroten (mcg)</th>\n",
              "      <th>Vitamin A (mcg)</th>\n",
              "      <th>Vitamin B1 (mg)</th>\n",
              "      <th>Vitamin C (mg)</th>\n",
              "    </tr>\n",
              "  </thead>\n",
              "  <tbody>\n",
              "    <tr>\n",
              "      <th>missing_ratio</th>\n",
              "      <td>0.0</td>\n",
              "      <td>0.0</td>\n",
              "      <td>0.0</td>\n",
              "      <td>0.0</td>\n",
              "      <td>0.0</td>\n",
              "      <td>0.0</td>\n",
              "      <td>0.0</td>\n",
              "      <td>0.0</td>\n",
              "      <td>0.0</td>\n",
              "      <td>0.0</td>\n",
              "      <td>0.0</td>\n",
              "      <td>0.0</td>\n",
              "      <td>0.0</td>\n",
              "      <td>0.0</td>\n",
              "      <td>0.0</td>\n",
              "    </tr>\n",
              "    <tr>\n",
              "      <th>min</th>\n",
              "      <td>0.0</td>\n",
              "      <td>0.0</td>\n",
              "      <td>0.0</td>\n",
              "      <td>0.0</td>\n",
              "      <td>0.0</td>\n",
              "      <td>0.0</td>\n",
              "      <td>0.0</td>\n",
              "      <td>0.0</td>\n",
              "      <td>0.0</td>\n",
              "      <td>0.0</td>\n",
              "      <td>0.0</td>\n",
              "      <td>0.0</td>\n",
              "      <td>0.0</td>\n",
              "      <td>0.0</td>\n",
              "      <td>0.0</td>\n",
              "    </tr>\n",
              "    <tr>\n",
              "      <th>lower_quartile</th>\n",
              "      <td>89.0</td>\n",
              "      <td>4.0</td>\n",
              "      <td>0.0</td>\n",
              "      <td>0.0</td>\n",
              "      <td>0.0</td>\n",
              "      <td>0.0</td>\n",
              "      <td>8.0</td>\n",
              "      <td>30.0</td>\n",
              "      <td>0.0</td>\n",
              "      <td>0.0</td>\n",
              "      <td>0.0</td>\n",
              "      <td>0.0</td>\n",
              "      <td>0.0</td>\n",
              "      <td>0.0</td>\n",
              "      <td>0.0</td>\n",
              "    </tr>\n",
              "    <tr>\n",
              "      <th>median</th>\n",
              "      <td>138.0</td>\n",
              "      <td>13.0</td>\n",
              "      <td>3.0</td>\n",
              "      <td>1.0</td>\n",
              "      <td>0.0</td>\n",
              "      <td>0.0</td>\n",
              "      <td>21.5</td>\n",
              "      <td>134.0</td>\n",
              "      <td>1.0</td>\n",
              "      <td>0.0</td>\n",
              "      <td>0.0</td>\n",
              "      <td>0.0</td>\n",
              "      <td>0.0</td>\n",
              "      <td>0.0</td>\n",
              "      <td>0.0</td>\n",
              "    </tr>\n",
              "    <tr>\n",
              "      <th>upper_quartile</th>\n",
              "      <td>326.8</td>\n",
              "      <td>18.0</td>\n",
              "      <td>11.8</td>\n",
              "      <td>16.5</td>\n",
              "      <td>0.0</td>\n",
              "      <td>0.0</td>\n",
              "      <td>51.5</td>\n",
              "      <td>210.0</td>\n",
              "      <td>2.0</td>\n",
              "      <td>0.0</td>\n",
              "      <td>0.0</td>\n",
              "      <td>0.0</td>\n",
              "      <td>9.5</td>\n",
              "      <td>0.0</td>\n",
              "      <td>0.0</td>\n",
              "    </tr>\n",
              "    <tr>\n",
              "      <th>max</th>\n",
              "      <td>680.0</td>\n",
              "      <td>75.0</td>\n",
              "      <td>59.0</td>\n",
              "      <td>99.0</td>\n",
              "      <td>8.0</td>\n",
              "      <td>1790.0</td>\n",
              "      <td>5040.0</td>\n",
              "      <td>995.0</td>\n",
              "      <td>52.0</td>\n",
              "      <td>4926.0</td>\n",
              "      <td>1132.0</td>\n",
              "      <td>1470.0</td>\n",
              "      <td>6960.0</td>\n",
              "      <td>0.0</td>\n",
              "      <td>41.0</td>\n",
              "    </tr>\n",
              "  </tbody>\n",
              "</table>\n",
              "</div>"
            ],
            "text/plain": [
              "                Calories (kcal)  Protein (g)  Fat (g)  Carbonhydrates (g)  \\\n",
              "missing_ratio               0.0          0.0      0.0                 0.0   \n",
              "min                         0.0          0.0      0.0                 0.0   \n",
              "lower_quartile             89.0          4.0      0.0                 0.0   \n",
              "median                    138.0         13.0      3.0                 1.0   \n",
              "upper_quartile            326.8         18.0     11.8                16.5   \n",
              "max                       680.0         75.0     59.0                99.0   \n",
              "\n",
              "                Chất xơ (g)  Cholesterol (mg)  Canxi (mg)  Photpho (mg)  \\\n",
              "missing_ratio           0.0               0.0         0.0           0.0   \n",
              "min                     0.0               0.0         0.0           0.0   \n",
              "lower_quartile          0.0               0.0         8.0          30.0   \n",
              "median                  0.0               0.0        21.5         134.0   \n",
              "upper_quartile          0.0               0.0        51.5         210.0   \n",
              "max                     8.0            1790.0      5040.0         995.0   \n",
              "\n",
              "                Sắt (mg)  Natri (mg)  Kali (mg)  Beta Caroten (mcg)  \\\n",
              "missing_ratio        0.0         0.0        0.0                 0.0   \n",
              "min                  0.0         0.0        0.0                 0.0   \n",
              "lower_quartile       0.0         0.0        0.0                 0.0   \n",
              "median               1.0         0.0        0.0                 0.0   \n",
              "upper_quartile       2.0         0.0        0.0                 0.0   \n",
              "max                 52.0      4926.0     1132.0              1470.0   \n",
              "\n",
              "                Vitamin A (mcg)  Vitamin B1 (mg)  Vitamin C (mg)  \n",
              "missing_ratio               0.0              0.0             0.0  \n",
              "min                         0.0              0.0             0.0  \n",
              "lower_quartile              0.0              0.0             0.0  \n",
              "median                      0.0              0.0             0.0  \n",
              "upper_quartile              9.5              0.0             0.0  \n",
              "max                      6960.0              0.0            41.0  "
            ]
          },
          "metadata": {
            "tags": []
          },
          "execution_count": 165
        }
      ]
    },
    {
      "cell_type": "code",
      "metadata": {
        "id": "2ixu2fP3oK2G"
      },
      "source": [
        "numeric_column"
      ],
      "id": "2ixu2fP3oK2G",
      "execution_count": null,
      "outputs": []
    },
    {
      "cell_type": "code",
      "metadata": {
        "id": "Ol2UApUvoM_f"
      },
      "source": [
        "df['Vitamin A (mcg)']"
      ],
      "id": "Ol2UApUvoM_f",
      "execution_count": null,
      "outputs": []
    },
    {
      "cell_type": "markdown",
      "metadata": {
        "id": "x5KoJYFEVExs"
      },
      "source": [
        "## Analysis"
      ],
      "id": "x5KoJYFEVExs"
    },
    {
      "cell_type": "markdown",
      "metadata": {
        "id": "5KmgaTWRVLB3"
      },
      "source": [
        "### Visualize"
      ],
      "id": "5KmgaTWRVLB3"
    },
    {
      "cell_type": "markdown",
      "metadata": {
        "id": "CD8TD3TGVMnR"
      },
      "source": [
        "### Statistical"
      ],
      "id": "CD8TD3TGVMnR"
    },
    {
      "cell_type": "code",
      "metadata": {
        "id": "KTCrO_fCVPhO"
      },
      "source": [
        ""
      ],
      "id": "KTCrO_fCVPhO",
      "execution_count": null,
      "outputs": []
    }
  ]
}