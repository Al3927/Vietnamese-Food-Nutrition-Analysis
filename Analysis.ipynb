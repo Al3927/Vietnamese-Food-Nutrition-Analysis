{
  "nbformat": 4,
  "nbformat_minor": 5,
  "metadata": {
    "kernelspec": {
      "display_name": "Python 3",
      "language": "python",
      "name": "python3"
    },
    "language_info": {
      "codemirror_mode": {
        "name": "ipython",
        "version": 3
      },
      "file_extension": ".py",
      "mimetype": "text/x-python",
      "name": "python",
      "nbconvert_exporter": "python",
      "pygments_lexer": "ipython3",
      "version": "3.8.8"
    },
    "colab": {
      "name": "Analysis.ipynb",
      "provenance": [],
      "toc_visible": true
    }
  },
  "cells": [
    {
      "cell_type": "markdown",
      "metadata": {
        "id": "YXM_-X3aQLN5"
      },
      "source": [
        "## Make\n"
      ],
      "id": "YXM_-X3aQLN5"
    },
    {
      "cell_type": "code",
      "metadata": {
        "colab": {
          "base_uri": "https://localhost:8080/"
        },
        "id": "f9739f3d-8eed-4131-bb87-1fc21a033733",
        "outputId": "7cb1e299-364a-4d39-834c-64468a88a1b4"
      },
      "source": [
        "!pip install pandas-highcharts"
      ],
      "id": "f9739f3d-8eed-4131-bb87-1fc21a033733",
      "execution_count": 4,
      "outputs": [
        {
          "output_type": "stream",
          "text": [
            "Requirement already satisfied: pandas-highcharts in /usr/local/lib/python3.7/dist-packages (0.5.2)\n",
            "Requirement already satisfied: ipython in /usr/local/lib/python3.7/dist-packages (from pandas-highcharts) (5.5.0)\n",
            "Requirement already satisfied: pandas in /usr/local/lib/python3.7/dist-packages (from pandas-highcharts) (1.1.5)\n",
            "Requirement already satisfied: coverage in /usr/local/lib/python3.7/dist-packages (from pandas-highcharts) (3.7.1)\n",
            "Requirement already satisfied: traitlets>=4.2 in /usr/local/lib/python3.7/dist-packages (from ipython->pandas-highcharts) (5.0.5)\n",
            "Requirement already satisfied: pickleshare in /usr/local/lib/python3.7/dist-packages (from ipython->pandas-highcharts) (0.7.5)\n",
            "Requirement already satisfied: setuptools>=18.5 in /usr/local/lib/python3.7/dist-packages (from ipython->pandas-highcharts) (57.0.0)\n",
            "Requirement already satisfied: prompt-toolkit<2.0.0,>=1.0.4 in /usr/local/lib/python3.7/dist-packages (from ipython->pandas-highcharts) (1.0.18)\n",
            "Requirement already satisfied: pygments in /usr/local/lib/python3.7/dist-packages (from ipython->pandas-highcharts) (2.6.1)\n",
            "Requirement already satisfied: decorator in /usr/local/lib/python3.7/dist-packages (from ipython->pandas-highcharts) (4.4.2)\n",
            "Requirement already satisfied: simplegeneric>0.8 in /usr/local/lib/python3.7/dist-packages (from ipython->pandas-highcharts) (0.8.1)\n",
            "Requirement already satisfied: pexpect; sys_platform != \"win32\" in /usr/local/lib/python3.7/dist-packages (from ipython->pandas-highcharts) (4.8.0)\n",
            "Requirement already satisfied: pytz>=2017.2 in /usr/local/lib/python3.7/dist-packages (from pandas->pandas-highcharts) (2018.9)\n",
            "Requirement already satisfied: python-dateutil>=2.7.3 in /usr/local/lib/python3.7/dist-packages (from pandas->pandas-highcharts) (2.8.1)\n",
            "Requirement already satisfied: numpy>=1.15.4 in /usr/local/lib/python3.7/dist-packages (from pandas->pandas-highcharts) (1.19.5)\n",
            "Requirement already satisfied: ipython-genutils in /usr/local/lib/python3.7/dist-packages (from traitlets>=4.2->ipython->pandas-highcharts) (0.2.0)\n",
            "Requirement already satisfied: wcwidth in /usr/local/lib/python3.7/dist-packages (from prompt-toolkit<2.0.0,>=1.0.4->ipython->pandas-highcharts) (0.2.5)\n",
            "Requirement already satisfied: six>=1.9.0 in /usr/local/lib/python3.7/dist-packages (from prompt-toolkit<2.0.0,>=1.0.4->ipython->pandas-highcharts) (1.15.0)\n",
            "Requirement already satisfied: ptyprocess>=0.5 in /usr/local/lib/python3.7/dist-packages (from pexpect; sys_platform != \"win32\"->ipython->pandas-highcharts) (0.7.0)\n"
          ],
          "name": "stdout"
        }
      ]
    },
    {
      "cell_type": "code",
      "metadata": {
        "id": "fbb1d4c9-42bb-43af-afb4-2bf5de22a796"
      },
      "source": [
        "import os\n",
        "import datetime\n",
        "\n",
        "import IPython\n",
        "import IPython.display\n",
        "import requests\n",
        "import json\n",
        "import time\n",
        "import math\n",
        "import re\n",
        "import pandas as pd\n",
        "import numpy as np\n",
        "%matplotlib inline\n",
        "import matplotlib as mpl\n",
        "import matplotlib.pyplot as plt\n",
        "from  matplotlib.ticker import PercentFormatter\n",
        "import seaborn as sns\n",
        " \n",
        "from sklearn.model_selection import train_test_split\n",
        "from sklearn.model_selection import GridSearchCV\n",
        "from sklearn.compose import ColumnTransformer\n",
        "from sklearn.compose import make_column_transformer\n",
        "from sklearn.preprocessing import OneHotEncoder\n",
        "from sklearn.preprocessing import StandardScaler\n",
        "from sklearn.base import BaseEstimator, TransformerMixin\n",
        "from sklearn.impute import SimpleImputer\n",
        "from sklearn.pipeline import Pipeline, make_pipeline\n",
        " \n",
        "from sklearn import set_config\n",
        "# set_config(display='diagram') # Để trực quan hóa pipeline\n",
        " \n",
        "from sklearn.neural_network import MLPRegressor\n",
        "from sklearn.linear_model import LinearRegression, SGDRegressor\n",
        "from sklearn.utils import resample\n",
        "\n",
        "from pandas_highcharts.display import display_charts\n",
        "from pandas_highcharts.display import load_highcharts\n",
        "from pandas_highcharts.core import serialize\n",
        "from IPython.core.display import display, HTML\n",
        "from pandas_highcharts.core import json_encode"
      ],
      "id": "fbb1d4c9-42bb-43af-afb4-2bf5de22a796",
      "execution_count": 5,
      "outputs": []
    },
    {
      "cell_type": "code",
      "metadata": {
        "id": "45513eda-4bf7-4e99-82ba-5e0d77865a55"
      },
      "source": [
        "#Set Option\n",
        "pd.set_option('max_colwidth', None)\n",
        "pd.set_option('display.max_rows', None)\n",
        "pd.set_option('display.max_columns', None)\n",
        "pd.set_option('display.width', None)\n",
        "sns.set_theme()"
      ],
      "id": "45513eda-4bf7-4e99-82ba-5e0d77865a55",
      "execution_count": 6,
      "outputs": []
    },
    {
      "cell_type": "markdown",
      "metadata": {
        "id": "IfpMdTrySwVH"
      },
      "source": [
        "## Đề Tài"
      ],
      "id": "IfpMdTrySwVH"
    },
    {
      "cell_type": "markdown",
      "metadata": {
        "id": "N149NGDcSyZi"
      },
      "source": [
        "Nhóm muốn nghiên cứu, tìm hiểu các thông tin thú vị về thực phẩm Việt Nam. Đây là vấn đề về **khoa học thực phẩm**, gắn chặt với đời sống hàng ngày của chúng ta, ảnh hưởng trực tiếp đến sức khỏe, và đặc biệt là trong thời kỳ dịch bệnh, ta đã để tâm hơn đến sức khỏe, và có nhiều thời gian hơn để quan tâm đến bữa ăn"
      ],
      "id": "N149NGDcSyZi"
    },
    {
      "cell_type": "markdown",
      "metadata": {
        "id": "kiwFH8XxQRVz"
      },
      "source": [
        "## Dữ liệu"
      ],
      "id": "kiwFH8XxQRVz"
    },
    {
      "cell_type": "markdown",
      "metadata": {
        "id": "A3kAoGy0VmB-"
      },
      "source": [
        "Dữ liệu được lấy từ sách \"Bảng Thành Phần Dinh Dưỡng Việt Nam\", cung cấp bởi Bộ Y Tế - Viện Dinh Dưỡng"
      ],
      "id": "A3kAoGy0VmB-"
    },
    {
      "cell_type": "markdown",
      "metadata": {
        "id": "cZrzBk-AQTUy"
      },
      "source": [
        "Ebook: https://drive.google.com/file/d/0B4RM9E8In1vFX1RYcEFDQ1VwZ1k/view (provided by Ministry of Health of Vietnam - http://chuyentrang.viendinhduong.vn/)\n",
        "\n",
        "Xls: https://drive.google.com/file/d/0B4RM9E8In1vFS2VVaFBLLUkwZlU/view?resourcekey=0-NrWigVtiVKokEIFJ0HBdcg (Extract by thehinh.com)\n"
      ],
      "id": "cZrzBk-AQTUy"
    },
    {
      "cell_type": "markdown",
      "metadata": {
        "id": "7YaUL1aPVGiy"
      },
      "source": [
        "## Đọc Dữ liệu"
      ],
      "id": "7YaUL1aPVGiy"
    },
    {
      "cell_type": "code",
      "metadata": {
        "id": "8d93d396-dedd-4438-9afd-605a2e0298eb"
      },
      "source": [
        "df = pd.read_excel(\"https://github.com/Al3927/Vietnamese-Food-Nutrition-Analysis/blob/main/data/data.xlsx?raw=true\")"
      ],
      "id": "8d93d396-dedd-4438-9afd-605a2e0298eb",
      "execution_count": 7,
      "outputs": []
    },
    {
      "cell_type": "code",
      "metadata": {
        "colab": {
          "base_uri": "https://localhost:8080/",
          "height": 604
        },
        "id": "424ed30c-498c-4819-8900-a1e4c4a073be",
        "outputId": "a95d0815-d470-46a6-9c6e-e8edce4e709f"
      },
      "source": [
        "df.head(3)"
      ],
      "id": "424ed30c-498c-4819-8900-a1e4c4a073be",
      "execution_count": 8,
      "outputs": [
        {
          "output_type": "execute_result",
          "data": {
            "text/html": [
              "<div>\n",
              "<style scoped>\n",
              "    .dataframe tbody tr th:only-of-type {\n",
              "        vertical-align: middle;\n",
              "    }\n",
              "\n",
              "    .dataframe tbody tr th {\n",
              "        vertical-align: top;\n",
              "    }\n",
              "\n",
              "    .dataframe thead th {\n",
              "        text-align: right;\n",
              "    }\n",
              "</style>\n",
              "<table border=\"1\" class=\"dataframe\">\n",
              "  <thead>\n",
              "    <tr style=\"text-align: right;\">\n",
              "      <th></th>\n",
              "      <th>TÊN THỨC ĂN</th>\n",
              "      <th>Calories (kcal)</th>\n",
              "      <th>Protein (g)</th>\n",
              "      <th>Fat (g)</th>\n",
              "      <th>Carbonhydrates (g)</th>\n",
              "      <th>Chất xơ (g)</th>\n",
              "      <th>Cholesterol (mg)</th>\n",
              "      <th>Canxi (mg)</th>\n",
              "      <th>Photpho (mg)</th>\n",
              "      <th>Sắt (mg)</th>\n",
              "      <th>Natri (mg)</th>\n",
              "      <th>Kali (mg)</th>\n",
              "      <th>Beta Caroten (mcg)</th>\n",
              "      <th>Vitamin A (mcg)</th>\n",
              "      <th>Vitamin B1 (mg)</th>\n",
              "      <th>Vitamin C (mg)</th>\n",
              "      <th>Loại</th>\n",
              "    </tr>\n",
              "  </thead>\n",
              "  <tbody>\n",
              "    <tr>\n",
              "      <th>0</th>\n",
              "      <td>Gạo nếp cái</td>\n",
              "      <td>346</td>\n",
              "      <td>8,6</td>\n",
              "      <td>1,5</td>\n",
              "      <td>74,9</td>\n",
              "      <td>0,6</td>\n",
              "      <td>0</td>\n",
              "      <td>32</td>\n",
              "      <td>98</td>\n",
              "      <td>1,2</td>\n",
              "      <td>3</td>\n",
              "      <td>282</td>\n",
              "      <td>0</td>\n",
              "      <td>0</td>\n",
              "      <td>0,14</td>\n",
              "      <td>0,0</td>\n",
              "      <td>Ngũ cốc và sản phẩm chế biến từ chúng</td>\n",
              "    </tr>\n",
              "    <tr>\n",
              "      <th>1</th>\n",
              "      <td>Gạo tẻ</td>\n",
              "      <td>344</td>\n",
              "      <td>7,9</td>\n",
              "      <td>1,0</td>\n",
              "      <td>76,2</td>\n",
              "      <td>0,4</td>\n",
              "      <td>0</td>\n",
              "      <td>30</td>\n",
              "      <td>104,0</td>\n",
              "      <td>1,3</td>\n",
              "      <td>5</td>\n",
              "      <td>241</td>\n",
              "      <td>0</td>\n",
              "      <td>0</td>\n",
              "      <td>0,10</td>\n",
              "      <td>0,0</td>\n",
              "      <td>Ngũ cốc và sản phẩm chế biến từ chúng</td>\n",
              "    </tr>\n",
              "    <tr>\n",
              "      <th>2</th>\n",
              "      <td>Bắp tươi</td>\n",
              "      <td>196</td>\n",
              "      <td>4,1</td>\n",
              "      <td>2,3</td>\n",
              "      <td>39,6</td>\n",
              "      <td>1,2</td>\n",
              "      <td>0</td>\n",
              "      <td>20</td>\n",
              "      <td>187,0</td>\n",
              "      <td>1,5</td>\n",
              "      <td>0</td>\n",
              "      <td>0</td>\n",
              "      <td>170</td>\n",
              "      <td>0</td>\n",
              "      <td>0,21</td>\n",
              "      <td>0,0</td>\n",
              "      <td>Ngũ cốc và sản phẩm chế biến từ chúng</td>\n",
              "    </tr>\n",
              "  </tbody>\n",
              "</table>\n",
              "</div>"
            ],
            "text/plain": [
              "   TÊN THỨC ĂN  Calories (kcal) Protein (g) Fat (g) Carbonhydrates (g)  \\\n",
              "0  Gạo nếp cái              346         8,6     1,5               74,9   \n",
              "1       Gạo tẻ              344         7,9     1,0               76,2   \n",
              "2     Bắp tươi              196         4,1     2,3               39,6   \n",
              "\n",
              "  Chất xơ (g)  Cholesterol (mg)  Canxi (mg) Photpho (mg) Sắt (mg) Natri (mg)  \\\n",
              "0         0,6                 0          32           98      1,2          3   \n",
              "1         0,4                 0          30        104,0      1,3          5   \n",
              "2         1,2                 0          20        187,0      1,5          0   \n",
              "\n",
              "   Kali (mg)  Beta Caroten (mcg) Vitamin A (mcg) Vitamin B1 (mg)  \\\n",
              "0        282                   0               0            0,14   \n",
              "1        241                   0               0            0,10   \n",
              "2          0                 170               0            0,21   \n",
              "\n",
              "  Vitamin C (mg)                                   Loại  \n",
              "0            0,0  Ngũ cốc và sản phẩm chế biến từ chúng  \n",
              "1            0,0  Ngũ cốc và sản phẩm chế biến từ chúng  \n",
              "2            0,0  Ngũ cốc và sản phẩm chế biến từ chúng  "
            ]
          },
          "metadata": {
            "tags": []
          },
          "execution_count": 8
        }
      ]
    },
    {
      "cell_type": "markdown",
      "metadata": {
        "id": "4KzcCn9UX3kB"
      },
      "source": [
        "## Khám phá dữ liệu đơn giản và Tiền xử lý"
      ],
      "id": "4KzcCn9UX3kB"
    },
    {
      "cell_type": "code",
      "metadata": {
        "colab": {
          "base_uri": "https://localhost:8080/"
        },
        "id": "9748895b-40cd-44b6-a806-f425f055e4bf",
        "outputId": "e0aedb92-be85-4c07-bd5e-5da75faec924"
      },
      "source": [
        "df.shape"
      ],
      "id": "9748895b-40cd-44b6-a806-f425f055e4bf",
      "execution_count": 9,
      "outputs": [
        {
          "output_type": "execute_result",
          "data": {
            "text/plain": [
              "(162, 17)"
            ]
          },
          "metadata": {
            "tags": []
          },
          "execution_count": 9
        }
      ]
    },
    {
      "cell_type": "markdown",
      "metadata": {
        "id": "i4gWIAT9ITpV"
      },
      "source": [
        "### Đổi tên thuộc tính"
      ],
      "id": "i4gWIAT9ITpV"
    },
    {
      "cell_type": "code",
      "metadata": {
        "id": "_Cq_s4TAIWJP"
      },
      "source": [
        "df = df.rename(columns={'TÊN THỨC ĂN': 'Food Name', 'Loại': 'Food Type'})"
      ],
      "id": "_Cq_s4TAIWJP",
      "execution_count": 10,
      "outputs": []
    },
    {
      "cell_type": "markdown",
      "metadata": {
        "id": "yPQfej1gmSIc"
      },
      "source": [
        "### Chỉnh sửa kiểu thuộc tính"
      ],
      "id": "yPQfej1gmSIc"
    },
    {
      "cell_type": "code",
      "metadata": {
        "colab": {
          "base_uri": "https://localhost:8080/"
        },
        "id": "lwh049b8VDmu",
        "outputId": "be6d588e-c0dc-4f4d-8680-ba3cd8e43953"
      },
      "source": [
        "df.info()"
      ],
      "id": "lwh049b8VDmu",
      "execution_count": 11,
      "outputs": [
        {
          "output_type": "stream",
          "text": [
            "<class 'pandas.core.frame.DataFrame'>\n",
            "RangeIndex: 162 entries, 0 to 161\n",
            "Data columns (total 17 columns):\n",
            " #   Column              Non-Null Count  Dtype \n",
            "---  ------              --------------  ----- \n",
            " 0   Food Name           162 non-null    object\n",
            " 1   Calories (kcal)     162 non-null    int64 \n",
            " 2   Protein (g)         162 non-null    object\n",
            " 3   Fat (g)             162 non-null    object\n",
            " 4   Carbonhydrates (g)  162 non-null    object\n",
            " 5   Chất xơ (g)         162 non-null    object\n",
            " 6   Cholesterol (mg)    162 non-null    int64 \n",
            " 7   Canxi (mg)          162 non-null    int64 \n",
            " 8   Photpho (mg)        162 non-null    object\n",
            " 9   Sắt (mg)            162 non-null    object\n",
            " 10  Natri (mg)          162 non-null    object\n",
            " 11  Kali (mg)           162 non-null    int64 \n",
            " 12  Beta Caroten (mcg)  162 non-null    int64 \n",
            " 13  Vitamin A (mcg)     162 non-null    object\n",
            " 14  Vitamin B1 (mg)     162 non-null    object\n",
            " 15  Vitamin C (mg)      162 non-null    object\n",
            " 16  Food Type           162 non-null    object\n",
            "dtypes: int64(5), object(12)\n",
            "memory usage: 21.6+ KB\n"
          ],
          "name": "stdout"
        }
      ]
    },
    {
      "cell_type": "code",
      "metadata": {
        "id": "EkplRzjLbA6f"
      },
      "source": [
        "numeric_column = df.select_dtypes(include = 'object').columns.copy()\n",
        "# numeric_column\n",
        "numeric_column = np.delete(numeric_column, [0,11])"
      ],
      "id": "EkplRzjLbA6f",
      "execution_count": 12,
      "outputs": []
    },
    {
      "cell_type": "code",
      "metadata": {
        "id": "cJnATx8PZ_Uu"
      },
      "source": [
        "def changecol(val):\n",
        "    if type(val) == str:\n",
        "        val =  val.replace(\",\",\".\")\n",
        "        val = re.findall(r'\\d+',val)[0]\n",
        "        return val\n",
        "    else:\n",
        "        return val"
      ],
      "id": "cJnATx8PZ_Uu",
      "execution_count": 13,
      "outputs": []
    },
    {
      "cell_type": "code",
      "metadata": {
        "colab": {
          "base_uri": "https://localhost:8080/"
        },
        "id": "DA5OnwXnbTKb",
        "outputId": "9db67ba2-7aa6-4a50-857d-6f0068853963"
      },
      "source": [
        "numeric_column"
      ],
      "id": "DA5OnwXnbTKb",
      "execution_count": 14,
      "outputs": [
        {
          "output_type": "execute_result",
          "data": {
            "text/plain": [
              "Index(['Protein (g)', 'Fat (g)', 'Carbonhydrates (g)', 'Chất xơ (g)',\n",
              "       'Photpho (mg)', 'Sắt (mg)', 'Natri (mg)', 'Vitamin A (mcg)',\n",
              "       'Vitamin B1 (mg)', 'Vitamin C (mg)'],\n",
              "      dtype='object')"
            ]
          },
          "metadata": {
            "tags": []
          },
          "execution_count": 14
        }
      ]
    },
    {
      "cell_type": "code",
      "metadata": {
        "id": "VsNS8c2KZMW3"
      },
      "source": [
        "\n",
        "for col in numeric_column:\n",
        "    # df[col] = df[col].agg(changecol)\n",
        "    df[col] = df.apply(lambda row: changecol(row[col]), axis=1)\n",
        "    df[col] = df[col].astype(float)"
      ],
      "id": "VsNS8c2KZMW3",
      "execution_count": 15,
      "outputs": []
    },
    {
      "cell_type": "code",
      "metadata": {
        "colab": {
          "base_uri": "https://localhost:8080/"
        },
        "id": "cPCRQb7UmWRq",
        "outputId": "5ad00b8e-9bc2-45ac-f1a4-3ac67d262bc7"
      },
      "source": [
        "df.info()"
      ],
      "id": "cPCRQb7UmWRq",
      "execution_count": 16,
      "outputs": [
        {
          "output_type": "stream",
          "text": [
            "<class 'pandas.core.frame.DataFrame'>\n",
            "RangeIndex: 162 entries, 0 to 161\n",
            "Data columns (total 17 columns):\n",
            " #   Column              Non-Null Count  Dtype  \n",
            "---  ------              --------------  -----  \n",
            " 0   Food Name           162 non-null    object \n",
            " 1   Calories (kcal)     162 non-null    int64  \n",
            " 2   Protein (g)         162 non-null    float64\n",
            " 3   Fat (g)             162 non-null    float64\n",
            " 4   Carbonhydrates (g)  162 non-null    float64\n",
            " 5   Chất xơ (g)         162 non-null    float64\n",
            " 6   Cholesterol (mg)    162 non-null    int64  \n",
            " 7   Canxi (mg)          162 non-null    int64  \n",
            " 8   Photpho (mg)        162 non-null    float64\n",
            " 9   Sắt (mg)            162 non-null    float64\n",
            " 10  Natri (mg)          162 non-null    float64\n",
            " 11  Kali (mg)           162 non-null    int64  \n",
            " 12  Beta Caroten (mcg)  162 non-null    int64  \n",
            " 13  Vitamin A (mcg)     162 non-null    float64\n",
            " 14  Vitamin B1 (mg)     162 non-null    float64\n",
            " 15  Vitamin C (mg)      162 non-null    float64\n",
            " 16  Food Type           162 non-null    object \n",
            "dtypes: float64(10), int64(5), object(2)\n",
            "memory usage: 21.6+ KB\n"
          ],
          "name": "stdout"
        }
      ]
    },
    {
      "cell_type": "markdown",
      "metadata": {
        "id": "yKb-es1_nuFm"
      },
      "source": [
        "### Phân bố các thuộc tính dạng số"
      ],
      "id": "yKb-es1_nuFm"
    },
    {
      "cell_type": "code",
      "metadata": {
        "colab": {
          "base_uri": "https://localhost:8080/",
          "height": 289
        },
        "id": "OCOhVJ2DnxiF",
        "outputId": "3dc87136-82b4-4c6f-bc41-81c2313bc8dd"
      },
      "source": [
        "def missing_ratio(df):\n",
        "    return (df.isna().mean() * 100).round(1)\n",
        "def lower_quartile(df):\n",
        "    return df.quantile(0.25)\n",
        "def median(df):\n",
        "    return df.quantile(0.5)\n",
        "def upper_quartile(df):\n",
        "    return df.quantile(0.75)\n",
        "\n",
        "numeric_column = df.select_dtypes(exclude = 'object').columns\n",
        "num_df = df[numeric_column].copy()\n",
        "num_col_info_df = num_df.agg([missing_ratio, min, lower_quartile, median, upper_quartile, max]).round(1)\n",
        "num_col_info_df\n"
      ],
      "id": "OCOhVJ2DnxiF",
      "execution_count": 17,
      "outputs": [
        {
          "output_type": "execute_result",
          "data": {
            "text/html": [
              "<div>\n",
              "<style scoped>\n",
              "    .dataframe tbody tr th:only-of-type {\n",
              "        vertical-align: middle;\n",
              "    }\n",
              "\n",
              "    .dataframe tbody tr th {\n",
              "        vertical-align: top;\n",
              "    }\n",
              "\n",
              "    .dataframe thead th {\n",
              "        text-align: right;\n",
              "    }\n",
              "</style>\n",
              "<table border=\"1\" class=\"dataframe\">\n",
              "  <thead>\n",
              "    <tr style=\"text-align: right;\">\n",
              "      <th></th>\n",
              "      <th>Calories (kcal)</th>\n",
              "      <th>Protein (g)</th>\n",
              "      <th>Fat (g)</th>\n",
              "      <th>Carbonhydrates (g)</th>\n",
              "      <th>Chất xơ (g)</th>\n",
              "      <th>Cholesterol (mg)</th>\n",
              "      <th>Canxi (mg)</th>\n",
              "      <th>Photpho (mg)</th>\n",
              "      <th>Sắt (mg)</th>\n",
              "      <th>Natri (mg)</th>\n",
              "      <th>Kali (mg)</th>\n",
              "      <th>Beta Caroten (mcg)</th>\n",
              "      <th>Vitamin A (mcg)</th>\n",
              "      <th>Vitamin B1 (mg)</th>\n",
              "      <th>Vitamin C (mg)</th>\n",
              "    </tr>\n",
              "  </thead>\n",
              "  <tbody>\n",
              "    <tr>\n",
              "      <th>missing_ratio</th>\n",
              "      <td>0.0</td>\n",
              "      <td>0.0</td>\n",
              "      <td>0.0</td>\n",
              "      <td>0.0</td>\n",
              "      <td>0.0</td>\n",
              "      <td>0.0</td>\n",
              "      <td>0.0</td>\n",
              "      <td>0.0</td>\n",
              "      <td>0.0</td>\n",
              "      <td>0.0</td>\n",
              "      <td>0.0</td>\n",
              "      <td>0.0</td>\n",
              "      <td>0.0</td>\n",
              "      <td>0.0</td>\n",
              "      <td>0.0</td>\n",
              "    </tr>\n",
              "    <tr>\n",
              "      <th>min</th>\n",
              "      <td>0.0</td>\n",
              "      <td>0.0</td>\n",
              "      <td>0.0</td>\n",
              "      <td>0.0</td>\n",
              "      <td>0.0</td>\n",
              "      <td>0.0</td>\n",
              "      <td>0.0</td>\n",
              "      <td>0.0</td>\n",
              "      <td>0.0</td>\n",
              "      <td>0.0</td>\n",
              "      <td>0.0</td>\n",
              "      <td>0.0</td>\n",
              "      <td>0.0</td>\n",
              "      <td>0.0</td>\n",
              "      <td>0.0</td>\n",
              "    </tr>\n",
              "    <tr>\n",
              "      <th>lower_quartile</th>\n",
              "      <td>89.0</td>\n",
              "      <td>4.0</td>\n",
              "      <td>0.0</td>\n",
              "      <td>0.0</td>\n",
              "      <td>0.0</td>\n",
              "      <td>0.0</td>\n",
              "      <td>8.0</td>\n",
              "      <td>30.0</td>\n",
              "      <td>0.0</td>\n",
              "      <td>0.0</td>\n",
              "      <td>0.0</td>\n",
              "      <td>0.0</td>\n",
              "      <td>0.0</td>\n",
              "      <td>0.0</td>\n",
              "      <td>0.0</td>\n",
              "    </tr>\n",
              "    <tr>\n",
              "      <th>median</th>\n",
              "      <td>138.0</td>\n",
              "      <td>13.0</td>\n",
              "      <td>3.0</td>\n",
              "      <td>1.0</td>\n",
              "      <td>0.0</td>\n",
              "      <td>0.0</td>\n",
              "      <td>21.5</td>\n",
              "      <td>134.0</td>\n",
              "      <td>1.0</td>\n",
              "      <td>0.0</td>\n",
              "      <td>0.0</td>\n",
              "      <td>0.0</td>\n",
              "      <td>0.0</td>\n",
              "      <td>0.0</td>\n",
              "      <td>0.0</td>\n",
              "    </tr>\n",
              "    <tr>\n",
              "      <th>upper_quartile</th>\n",
              "      <td>326.8</td>\n",
              "      <td>18.0</td>\n",
              "      <td>11.8</td>\n",
              "      <td>16.5</td>\n",
              "      <td>0.0</td>\n",
              "      <td>0.0</td>\n",
              "      <td>51.5</td>\n",
              "      <td>210.0</td>\n",
              "      <td>2.0</td>\n",
              "      <td>0.0</td>\n",
              "      <td>0.0</td>\n",
              "      <td>0.0</td>\n",
              "      <td>9.5</td>\n",
              "      <td>0.0</td>\n",
              "      <td>0.0</td>\n",
              "    </tr>\n",
              "    <tr>\n",
              "      <th>max</th>\n",
              "      <td>680.0</td>\n",
              "      <td>75.0</td>\n",
              "      <td>59.0</td>\n",
              "      <td>99.0</td>\n",
              "      <td>8.0</td>\n",
              "      <td>1790.0</td>\n",
              "      <td>5040.0</td>\n",
              "      <td>995.0</td>\n",
              "      <td>52.0</td>\n",
              "      <td>4926.0</td>\n",
              "      <td>1132.0</td>\n",
              "      <td>1470.0</td>\n",
              "      <td>6960.0</td>\n",
              "      <td>0.0</td>\n",
              "      <td>41.0</td>\n",
              "    </tr>\n",
              "  </tbody>\n",
              "</table>\n",
              "</div>"
            ],
            "text/plain": [
              "                Calories (kcal)  Protein (g)  Fat (g)  Carbonhydrates (g)  \\\n",
              "missing_ratio               0.0          0.0      0.0                 0.0   \n",
              "min                         0.0          0.0      0.0                 0.0   \n",
              "lower_quartile             89.0          4.0      0.0                 0.0   \n",
              "median                    138.0         13.0      3.0                 1.0   \n",
              "upper_quartile            326.8         18.0     11.8                16.5   \n",
              "max                       680.0         75.0     59.0                99.0   \n",
              "\n",
              "                Chất xơ (g)  Cholesterol (mg)  Canxi (mg)  Photpho (mg)  \\\n",
              "missing_ratio           0.0               0.0         0.0           0.0   \n",
              "min                     0.0               0.0         0.0           0.0   \n",
              "lower_quartile          0.0               0.0         8.0          30.0   \n",
              "median                  0.0               0.0        21.5         134.0   \n",
              "upper_quartile          0.0               0.0        51.5         210.0   \n",
              "max                     8.0            1790.0      5040.0         995.0   \n",
              "\n",
              "                Sắt (mg)  Natri (mg)  Kali (mg)  Beta Caroten (mcg)  \\\n",
              "missing_ratio        0.0         0.0        0.0                 0.0   \n",
              "min                  0.0         0.0        0.0                 0.0   \n",
              "lower_quartile       0.0         0.0        0.0                 0.0   \n",
              "median               1.0         0.0        0.0                 0.0   \n",
              "upper_quartile       2.0         0.0        0.0                 0.0   \n",
              "max                 52.0      4926.0     1132.0              1470.0   \n",
              "\n",
              "                Vitamin A (mcg)  Vitamin B1 (mg)  Vitamin C (mg)  \n",
              "missing_ratio               0.0              0.0             0.0  \n",
              "min                         0.0              0.0             0.0  \n",
              "lower_quartile              0.0              0.0             0.0  \n",
              "median                      0.0              0.0             0.0  \n",
              "upper_quartile              9.5              0.0             0.0  \n",
              "max                      6960.0              0.0            41.0  "
            ]
          },
          "metadata": {
            "tags": []
          },
          "execution_count": 17
        }
      ]
    },
    {
      "cell_type": "markdown",
      "metadata": {
        "id": "tBE6hGQsrz8w"
      },
      "source": [
        "### Phân bố các thuộc tính dạng category"
      ],
      "id": "tBE6hGQsrz8w"
    },
    {
      "cell_type": "code",
      "metadata": {
        "id": "euS4aWGKrs2C",
        "colab": {
          "base_uri": "https://localhost:8080/",
          "height": 431
        },
        "outputId": "a78594c3-5c37-4687-9396-9258e5dcdbb0"
      },
      "source": [
        "#Tham khảo [1]\n",
        "def missing_ratio(df):\n",
        "    return (df.isna().mean() * 100).round(1)\n",
        "def num_values(df):\n",
        "    return df.nunique()\n",
        "def value_ratios(c):\n",
        "    return dict((c.value_counts(normalize=True) * 100).round(1))\n",
        "object_df = df.select_dtypes(include='object')\n",
        "cat_col_info_df = object_df.agg([missing_ratio, num_values, value_ratios])\n",
        "cat_col_info_df"
      ],
      "id": "euS4aWGKrs2C",
      "execution_count": 18,
      "outputs": [
        {
          "output_type": "execute_result",
          "data": {
            "text/html": [
              "<div>\n",
              "<style scoped>\n",
              "    .dataframe tbody tr th:only-of-type {\n",
              "        vertical-align: middle;\n",
              "    }\n",
              "\n",
              "    .dataframe tbody tr th {\n",
              "        vertical-align: top;\n",
              "    }\n",
              "\n",
              "    .dataframe thead th {\n",
              "        text-align: right;\n",
              "    }\n",
              "</style>\n",
              "<table border=\"1\" class=\"dataframe\">\n",
              "  <thead>\n",
              "    <tr style=\"text-align: right;\">\n",
              "      <th></th>\n",
              "      <th>Food Name</th>\n",
              "      <th>Food Type</th>\n",
              "    </tr>\n",
              "  </thead>\n",
              "  <tbody>\n",
              "    <tr>\n",
              "      <th>missing_ratio</th>\n",
              "      <td>0</td>\n",
              "      <td>0</td>\n",
              "    </tr>\n",
              "    <tr>\n",
              "      <th>num_values</th>\n",
              "      <td>162</td>\n",
              "      <td>11</td>\n",
              "    </tr>\n",
              "    <tr>\n",
              "      <th>value_ratios</th>\n",
              "      <td>{'Cá mòi': 0.6, 'Kẹo đậu phộng': 0.6, 'Nhãn hộp': 0.6, 'Cua đồng': 0.6, 'Cá hồi': 0.6, 'Thịt heo hộp': 0.6, 'Rượu trắng': 0.6, 'Đậu đen (hạt)': 0.6, 'Cùi dừa già': 0.6, 'Chả bò': 0.6, 'Đậu phộng chiên': 0.6, 'Cá rô đồng': 0.6, 'Thịt bò': 0.6, 'Nhộng': 0.6, 'Cá lóc': 0.6, 'Cá mỡ': 0.6, 'Rượu nếp': 0.6, 'Củ từ': 0.6, 'Bia': 0.6, 'Bao tử bò': 0.6, 'Hến': 0.6, 'Mật ong': 0.6, 'Cá thu': 0.6, 'Bột sắn dây': 0.6, 'Thịt gà ta': 0.6, 'Mứt thơm': 0.6, 'Gan heo': 0.6, 'Lòngheo (ruột già)': 0.6, 'Lòng trắng trứng gà': 0.6, 'Kẹo ngậm bạc hà': 0.6, 'Chả lụa': 0.6, 'Cá đối': 0.6, 'Thịt vịt': 0.6, 'Sò': 0.6, 'Lưỡi heo': 0.6, 'Cá chép': 0.6, 'Thịt bê nạc': 0.6, 'Cá mè': 0.6, 'Lạp xưởng': 0.6, 'Óc heo': 0.6, 'Chà bông cá lóc': 0.6, 'Bao tử heo': 0.6, 'Sườn heo bỏ xương': 0.6, 'Đuôi bò': 0.6, 'Nước thơm': 0.6, 'Bánh in chay': 0.6, 'Bánh thỏi sôcôla': 0.6, 'Chả quế': 0.6, 'Thịt heo nạc': 0.6, 'Ghẹ': 0.6, 'Xúc xích': 0.6, 'Mực tươi': 0.6, 'Khoai môn': 0.6, 'Đậu Hà lan (hạt)': 0.6, 'Trứng vịt': 0.6, 'Thịt heo ba chỉ': 0.6, 'Ếch': 0.6, 'Mắm tôm đặc': 0.6, 'Lưỡi bò': 0.6, 'Hạt điều': 0.6, 'Cá bống': 0.6, 'Vải hộp': 0.6, 'Dăm bông heo': 0.6, 'Đậu xanh': 0.6, 'Tim bò': 0.6, 'Gan vịt': 0.6, 'Thịt vai chó': 0.6, 'Nem chua': 0.6, 'Gừng tươi': 0.6, 'Gạo tẻ': 0.6, 'Gan bò': 0.6, 'Bánh bao': 0.6, 'Lòng đỏ trứng gà': 0.6, 'Huyết heo luộc': 0.6, 'Tôm chua': 0.6, 'Đầu heo': 0.6, 'Đường cát trắng': 0.6, 'Cá nục': 0.6, 'Da heo': 0.6, 'Bắp tươi': 0.6, 'Cá ngừ': 0.6, 'Cá rô phi': 0.6, 'Giò thủ': 0.6, 'Bún': 0.6, 'Trứng vịt lộn': 0.6, 'Kẹo dừa mềm': 0.6, 'Cật heo': 0.6, 'Thịt bò hộp': 0.6, 'Bánh phở': 0.6, 'Mè': 0.6, 'Cật bò': 0.6, 'Đậu phụ': 0.6, 'Thịt gà hộp': 0.6, 'Trứng gà': 0.6, 'Cá nạc': 0.6, 'Xì dầu': 0.6, 'Mứt đu đủ': 0.6, 'CocaCola': 0.6, 'Bánh phồng tôm': 0.6, 'Muối': 0.6, ...}</td>\n",
              "      <td>{'THỊT VÀ SẢN PHẨM CHẾ BIẾN': 32.7, 'THỦY SẢN VÀ SẢN PHẨM CHẾ BIẾN': 21.0, 'ĐỒ NGỌT (ĐƯỜNG, BÁNH, MỨT, KẸO)': 8.0, 'ĐỒ HỘP': 7.4, 'GIA VỊ, NƯỚC CHẤM': 6.2, 'Khoai củ và các sản phẩm chế biến từ chúng': 5.6, 'Hạt, quả giàu protein, chất béo và chế phẩm': 5.6, 'Ngũ cốc và sản phẩm chế biến từ chúng': 5.6, 'TRỨNG VÀ SẢN PHẨM CHẾ BIẾN': 4.3, 'NƯỚC GIẢI KHÁT': 2.5, 'SỮA VÀ SẢN PHẨM CHẾ BIẾN': 1.2}</td>\n",
              "    </tr>\n",
              "  </tbody>\n",
              "</table>\n",
              "</div>"
            ],
            "text/plain": [
              "                                                                                                                                                                                                                                                                                                                                                                                                                                                                                                                                                                                                                                                                                                                                                                                                                                                                                                                                                                                                                                                                                                                                                                                                                                                                                                                                                                                                                                                                                                                                                                                                                                                                                                                                                                                                                                                        Food Name  \\\n",
              "missing_ratio                                                                                                                                                                                                                                                                                                                                                                                                                                                                                                                                                                                                                                                                                                                                                                                                                                                                                                                                                                                                                                                                                                                                                                                                                                                                                                                                                                                                                                                                                                                                                                                                                                                                                                                                                                                                                                                   0   \n",
              "num_values                                                                                                                                                                                                                                                                                                                                                                                                                                                                                                                                                                                                                                                                                                                                                                                                                                                                                                                                                                                                                                                                                                                                                                                                                                                                                                                                                                                                                                                                                                                                                                                                                                                                                                                                                                                                                                                    162   \n",
              "value_ratios   {'Cá mòi': 0.6, 'Kẹo đậu phộng': 0.6, 'Nhãn hộp': 0.6, 'Cua đồng': 0.6, 'Cá hồi': 0.6, 'Thịt heo hộp': 0.6, 'Rượu trắng': 0.6, 'Đậu đen (hạt)': 0.6, 'Cùi dừa già': 0.6, 'Chả bò': 0.6, 'Đậu phộng chiên': 0.6, 'Cá rô đồng': 0.6, 'Thịt bò': 0.6, 'Nhộng': 0.6, 'Cá lóc': 0.6, 'Cá mỡ': 0.6, 'Rượu nếp': 0.6, 'Củ từ': 0.6, 'Bia': 0.6, 'Bao tử bò': 0.6, 'Hến': 0.6, 'Mật ong': 0.6, 'Cá thu': 0.6, 'Bột sắn dây': 0.6, 'Thịt gà ta': 0.6, 'Mứt thơm': 0.6, 'Gan heo': 0.6, 'Lòngheo (ruột già)': 0.6, 'Lòng trắng trứng gà': 0.6, 'Kẹo ngậm bạc hà': 0.6, 'Chả lụa': 0.6, 'Cá đối': 0.6, 'Thịt vịt': 0.6, 'Sò': 0.6, 'Lưỡi heo': 0.6, 'Cá chép': 0.6, 'Thịt bê nạc': 0.6, 'Cá mè': 0.6, 'Lạp xưởng': 0.6, 'Óc heo': 0.6, 'Chà bông cá lóc': 0.6, 'Bao tử heo': 0.6, 'Sườn heo bỏ xương': 0.6, 'Đuôi bò': 0.6, 'Nước thơm': 0.6, 'Bánh in chay': 0.6, 'Bánh thỏi sôcôla': 0.6, 'Chả quế': 0.6, 'Thịt heo nạc': 0.6, 'Ghẹ': 0.6, 'Xúc xích': 0.6, 'Mực tươi': 0.6, 'Khoai môn': 0.6, 'Đậu Hà lan (hạt)': 0.6, 'Trứng vịt': 0.6, 'Thịt heo ba chỉ': 0.6, 'Ếch': 0.6, 'Mắm tôm đặc': 0.6, 'Lưỡi bò': 0.6, 'Hạt điều': 0.6, 'Cá bống': 0.6, 'Vải hộp': 0.6, 'Dăm bông heo': 0.6, 'Đậu xanh': 0.6, 'Tim bò': 0.6, 'Gan vịt': 0.6, 'Thịt vai chó': 0.6, 'Nem chua': 0.6, 'Gừng tươi': 0.6, 'Gạo tẻ': 0.6, 'Gan bò': 0.6, 'Bánh bao': 0.6, 'Lòng đỏ trứng gà': 0.6, 'Huyết heo luộc': 0.6, 'Tôm chua': 0.6, 'Đầu heo': 0.6, 'Đường cát trắng': 0.6, 'Cá nục': 0.6, 'Da heo': 0.6, 'Bắp tươi': 0.6, 'Cá ngừ': 0.6, 'Cá rô phi': 0.6, 'Giò thủ': 0.6, 'Bún': 0.6, 'Trứng vịt lộn': 0.6, 'Kẹo dừa mềm': 0.6, 'Cật heo': 0.6, 'Thịt bò hộp': 0.6, 'Bánh phở': 0.6, 'Mè': 0.6, 'Cật bò': 0.6, 'Đậu phụ': 0.6, 'Thịt gà hộp': 0.6, 'Trứng gà': 0.6, 'Cá nạc': 0.6, 'Xì dầu': 0.6, 'Mứt đu đủ': 0.6, 'CocaCola': 0.6, 'Bánh phồng tôm': 0.6, 'Muối': 0.6, ...}   \n",
              "\n",
              "                                                                                                                                                                                                                                                                                                                                                                                                                 Food Type  \n",
              "missing_ratio                                                                                                                                                                                                                                                                                                                                                                                                            0  \n",
              "num_values                                                                                                                                                                                                                                                                                                                                                                                                              11  \n",
              "value_ratios   {'THỊT VÀ SẢN PHẨM CHẾ BIẾN': 32.7, 'THỦY SẢN VÀ SẢN PHẨM CHẾ BIẾN': 21.0, 'ĐỒ NGỌT (ĐƯỜNG, BÁNH, MỨT, KẸO)': 8.0, 'ĐỒ HỘP': 7.4, 'GIA VỊ, NƯỚC CHẤM': 6.2, 'Khoai củ và các sản phẩm chế biến từ chúng': 5.6, 'Hạt, quả giàu protein, chất béo và chế phẩm': 5.6, 'Ngũ cốc và sản phẩm chế biến từ chúng': 5.6, 'TRỨNG VÀ SẢN PHẨM CHẾ BIẾN': 4.3, 'NƯỚC GIẢI KHÁT': 2.5, 'SỮA VÀ SẢN PHẨM CHẾ BIẾN': 1.2}  "
            ]
          },
          "metadata": {
            "tags": []
          },
          "execution_count": 18
        }
      ]
    },
    {
      "cell_type": "code",
      "metadata": {
        "id": "_JlSPmx-rspJ"
      },
      "source": [
        ""
      ],
      "id": "_JlSPmx-rspJ",
      "execution_count": 18,
      "outputs": []
    },
    {
      "cell_type": "markdown",
      "metadata": {
        "id": "x5KoJYFEVExs"
      },
      "source": [
        "## Phân tích dữ liệu"
      ],
      "id": "x5KoJYFEVExs"
    },
    {
      "cell_type": "markdown",
      "metadata": {
        "id": "Q4DJMEKbYOhb"
      },
      "source": [
        "### Trực quan hóa histogram từng cột"
      ],
      "id": "Q4DJMEKbYOhb"
    },
    {
      "cell_type": "markdown",
      "metadata": {
        "id": "LOMOd8i9c_R4"
      },
      "source": [
        "### Visualize histogram of each feature of each food type\n",
        "### Trực quan hóa histogram từng cột của mỗi loại thực phẩm"
      ],
      "id": "LOMOd8i9c_R4"
    },
    {
      "cell_type": "code",
      "metadata": {
        "id": "dS6FxdvR8A3b"
      },
      "source": [
        "food_type = ['Ngũ cốc và sản phẩm chế biến từ chúng', 'Khoai củ và các sản phẩm chế biến từ chúng', 'Hạt, quả giàu protein, chất béo và chế phẩm', 'THỊT VÀ SẢN PHẨM CHẾ BIẾN', 'THỦY SẢN VÀ SẢN PHẨM CHẾ BIẾN', 'TRỨNG VÀ SẢN PHẨM CHẾ BIẾN', 'ĐỒ HỘP', 'ĐỒ NGỌT(ĐƯỜNG, BÁNH, MỨT, KẸO)', 'GIA VỊ, NƯỚC CHẤM', 'NƯỚC GIẢI KHÁT']"
      ],
      "id": "dS6FxdvR8A3b",
      "execution_count": 19,
      "outputs": []
    },
    {
      "cell_type": "code",
      "metadata": {
        "id": "bvE9bziHf5FV"
      },
      "source": [
        "food_type_df = pd.DataFrame(columns = df.columns.copy())\n",
        "# for "
      ],
      "id": "bvE9bziHf5FV",
      "execution_count": 21,
      "outputs": []
    },
    {
      "cell_type": "markdown",
      "metadata": {
        "id": "69UKYDBJYVD1"
      },
      "source": [
        "### So sánh các loại thực phẩm"
      ],
      "id": "69UKYDBJYVD1"
    },
    {
      "cell_type": "markdown",
      "metadata": {
        "id": "KTCrO_fCVPhO"
      },
      "source": [
        "### So sánh một số thực phẩm phố biến"
      ],
      "id": "KTCrO_fCVPhO"
    },
    {
      "cell_type": "code",
      "metadata": {
        "id": "oLlP5q148vWn"
      },
      "source": [
        "common_food = ['Bánh mì', 'Gạo tẻ', 'Bún', 'Đậu phụ', 'Thịt bò', 'Thịt gà ta', 'Thịt heo ba chỉ', 'Chả lụa', 'Xúc xích', 'Cá ngừ', 'Cá rô phi', 'Cá thu', 'Tôm biển', 'Trứng gà', 'Sữa bò tươi', 'Đường cát trắng', 'Muối', 'Nước mắm', 'Xì dầu', 'Bia']"
      ],
      "id": "oLlP5q148vWn",
      "execution_count": 22,
      "outputs": []
    },
    {
      "cell_type": "code",
      "metadata": {
        "id": "pEA7MudG-X2A"
      },
      "source": [
        "cfood_df = pd.DataFrame(columns = df.columns.copy())\n",
        "for cfood in common_food:\n",
        "    cfood_df = cfood_df.append(df[df['Food Name'] == cfood].copy())"
      ],
      "id": "pEA7MudG-X2A",
      "execution_count": 23,
      "outputs": []
    },
    {
      "cell_type": "code",
      "metadata": {
        "colab": {
          "base_uri": "https://localhost:8080/"
        },
        "id": "lK3ms_yL-fpw",
        "outputId": "855aa9ce-54d7-4131-e4f6-4fed4eff8cf1"
      },
      "source": [
        "cfood_df.shape"
      ],
      "id": "lK3ms_yL-fpw",
      "execution_count": 24,
      "outputs": [
        {
          "output_type": "execute_result",
          "data": {
            "text/plain": [
              "(20, 17)"
            ]
          },
          "metadata": {
            "tags": []
          },
          "execution_count": 24
        }
      ]
    },
    {
      "cell_type": "code",
      "metadata": {
        "id": "TKIDu9iwpBrT"
      },
      "source": [
        "cfood_col = cfood_df.select_dtypes(include= 'object').columns.copy()\n",
        "cfood_col = np.delete(cfood_col,[0,6])\n",
        "cfood_col\n",
        "for col in cfood_col:\n",
        "    cfood_df[col] = cfood_df[col].astype(float)\n"
      ],
      "id": "TKIDu9iwpBrT",
      "execution_count": 25,
      "outputs": []
    },
    {
      "cell_type": "code",
      "metadata": {
        "id": "i1zKJWMx_QCC"
      },
      "source": [
        "def draw_bar (data_frame, renderTo, title_name, subtitle, typeData = 'default', header_tooltip = 'header'):\n",
        "  data_frame_visualization = serialize(data_frame, render_to=renderTo, output_type=\"dict\")\n",
        "  data_frame_visualization[\"title\"] = {\"text\" : {title_name}}\n",
        "  data_frame_visualization[\"subtitle\"] = {\"text\": f\"{subtitle}\"}\n",
        "  data_frame_visualization[\"chart\"][\"type\"] = \"column\"\n",
        "  data_frame_visualization[\"xAxis\"][\"type\"] = \"category\"\n",
        "\n",
        "  if (typeData == 'default'):\n",
        "    data_frame_visualization[\"plotOptions\"] = {\"series\": {\"borderWidth\": 0,\"dataLabels\": {\"enabled\": \"true\"}}}\n",
        "    data_frame_visualization[\"tooltip\"] = {\n",
        "        \"headerFormat\": '<span style=\"font-size:11px\"><b>{header}</b></span><br>'.format(header=header_tooltip), \n",
        "        \"pointFormat\": '<span style=\"color:{point.color}\">{point.name}</span>: <b>{point.y}</b><br/>'}\n",
        "  else:\n",
        "    if (typeData == 'rate'):\n",
        "      data_frame_visualization[\"plotOptions\"] = {\"series\": \n",
        "                                                 {\"borderWidth\": 0,\"dataLabels\": \n",
        "                                                  {\"enabled\": \"true\", \"format\": '{point.y:.2f}%'}}}\n",
        "      data_frame_visualization[\"tooltip\"] = {\n",
        "          \"headerFormat\": '<span style=\"font-size:11px\"><b>{header}</b></span><br>'.format(header=header_tooltip),\n",
        "          \"pointFormat\": '<span style=\"color:{point.color}\">{point.name}</span>: <b>{point.y:.2f}%</b> of total<br/>'}\n",
        "    else:\n",
        "      data_frame_visualization[\"plotOptions\"] = {\"series\": \n",
        "                                                 {\"borderWidth\": 0,\"dataLabels\": \n",
        "                                                  {\"enabled\": \"true\", \"format\": '{point.y:.2f}'}}}\n",
        "      data_frame_visualization[\"tooltip\"] = {\n",
        "        \"headerFormat\": '<span style=\"font-size:11px\"><b>{header}</b></span><br>'.format(header=header_tooltip), \n",
        "        \"pointFormat\": '<span style=\"color:{point.color}\">{point.name}</span>: <b>{point.y:.2f}</b><br/>'}\n",
        "\n",
        "  json_data_frame= \"new Highcharts.Chart(%s);\" % json_encode(data_frame_visualization)\n",
        "\n",
        "  display(HTML(\n",
        "    \"\"\"\n",
        "    <meta charset=\"utf-8\"> \n",
        "    <div id=\"{chart_id}\"</div>\n",
        "    <script src=\"//code.highcharts.com/stock/highstock.js\"></script><script src=\"//code.highcharts.com/highcharts-more.js\"></script>\n",
        "    <script src=\"//code.highcharts.com/modules/exporting.js\"></script><script type=\"text/javascript\">{data}</script>        \n",
        "    \"\"\".format(chart_id=renderTo, data=json_data_frame)))"
      ],
      "id": "i1zKJWMx_QCC",
      "execution_count": 26,
      "outputs": []
    },
    {
      "cell_type": "code",
      "metadata": {
        "id": "CHgf_vYZDbF_",
        "colab": {
          "base_uri": "https://localhost:8080/",
          "height": 1000
        },
        "outputId": "c2feb131-c223-4569-9c50-41622ebad0c0"
      },
      "source": [
        "for column in cfood_df.select_dtypes(exclude='object').columns:\n",
        "    cfood_df_ = cfood_df[['Food Name',f'{column}']].copy()\n",
        "    cfood_df_ = cfood_df_.sort_values(by = [f'{column}'], ascending=True)\n",
        "    cfood_df_ = cfood_df_.set_index('Food Name')\n",
        "    draw_bar(cfood_df_,\n",
        "            header_tooltip=f'{column}',\n",
        "            renderTo=f'cfood_{column}', \n",
        "            title_name=f'Distribution of {column}',\n",
        "            subtitle='of common food')"
      ],
      "id": "CHgf_vYZDbF_",
      "execution_count": 27,
      "outputs": [
        {
          "output_type": "display_data",
          "data": {
            "text/html": [
              "\n",
              "    <meta charset=\"utf-8\"> \n",
              "    <div id=\"cfood_Calories (kcal)\"</div>\n",
              "    <script src=\"//code.highcharts.com/stock/highstock.js\"></script><script src=\"//code.highcharts.com/highcharts-more.js\"></script>\n",
              "    <script src=\"//code.highcharts.com/modules/exporting.js\"></script><script type=\"text/javascript\">new Highcharts.Chart({\"chart\":{\"renderTo\":\"cfood_Calories (kcal)\",\"type\":\"column\"},\"legend\":{\"enabled\":true},\"series\":[{\"name\":\"Calories (kcal)\",\"yAxis\":0,\"data\":[[\"Mu\\u1ed1i\",0.0],[\"N\\u01b0\\u1edbc m\\u1eafm\",28.0],[\"X\\u00ec d\\u1ea7u\",28.0],[\"Bia\",43.0],[\"S\\u1eefa b\\u00f2 t\\u01b0\\u01a1i\",74.0],[\"T\\u00f4m bi\\u1ec3n\",82.0],[\"C\\u00e1 ng\\u1eeb\",87.0],[\"\\u0110\\u1eadu ph\\u1ee5\",95.0],[\"C\\u00e1 r\\u00f4 phi\",100.0],[\"B\\u00fan\",110.0],[\"Th\\u1ecbt b\\u00f2\",118.0],[\"Ch\\u1ea3 l\\u1ee5a\",136.0],[\"C\\u00e1 thu\",166.0],[\"Tr\\u1ee9ng g\\u00e0\",166.0],[\"Th\\u1ecbt g\\u00e0 ta\",199.0],[\"B\\u00e1nh m\\u00ec\",249.0],[\"Th\\u1ecbt heo ba ch\\u1ec9\",260.0],[\"G\\u1ea1o t\\u1ebb\",344.0],[\"\\u0110\\u01b0\\u1eddng c\\u00e1t tr\\u1eafng\",397.0],[\"X\\u00fac x\\u00edch\",535.0]]}],\"xAxis\":{\"title\":{\"text\":\"Food Name\"},\"categories\":[\"Mu\\u1ed1i\",\"N\\u01b0\\u1edbc m\\u1eafm\",\"X\\u00ec d\\u1ea7u\",\"Bia\",\"S\\u1eefa b\\u00f2 t\\u01b0\\u01a1i\",\"T\\u00f4m bi\\u1ec3n\",\"C\\u00e1 ng\\u1eeb\",\"\\u0110\\u1eadu ph\\u1ee5\",\"C\\u00e1 r\\u00f4 phi\",\"B\\u00fan\",\"Th\\u1ecbt b\\u00f2\",\"Ch\\u1ea3 l\\u1ee5a\",\"C\\u00e1 thu\",\"Tr\\u1ee9ng g\\u00e0\",\"Th\\u1ecbt g\\u00e0 ta\",\"B\\u00e1nh m\\u00ec\",\"Th\\u1ecbt heo ba ch\\u1ec9\",\"G\\u1ea1o t\\u1ebb\",\"\\u0110\\u01b0\\u1eddng c\\u00e1t tr\\u1eafng\",\"X\\u00fac x\\u00edch\"],\"type\":\"category\"},\"yAxis\":[{}],\"title\":{\"text\":[\"Distribution of Calories (kcal)\"]},\"subtitle\":{\"text\":\"of common food\"},\"plotOptions\":{\"series\":{\"borderWidth\":0,\"dataLabels\":{\"enabled\":\"true\"}}},\"tooltip\":{\"headerFormat\":\"<span style=\\\"font-size:11px\\\"><b>Calories (kcal)<\\/b><\\/span><br>\",\"pointFormat\":\"<span style=\\\"color:{point.color}\\\">{point.name}<\\/span>: <b>{point.y}<\\/b><br\\/>\"}});</script>        \n",
              "    "
            ],
            "text/plain": [
              "<IPython.core.display.HTML object>"
            ]
          },
          "metadata": {
            "tags": []
          }
        },
        {
          "output_type": "display_data",
          "data": {
            "text/html": [
              "\n",
              "    <meta charset=\"utf-8\"> \n",
              "    <div id=\"cfood_Protein (g)\"</div>\n",
              "    <script src=\"//code.highcharts.com/stock/highstock.js\"></script><script src=\"//code.highcharts.com/highcharts-more.js\"></script>\n",
              "    <script src=\"//code.highcharts.com/modules/exporting.js\"></script><script type=\"text/javascript\">new Highcharts.Chart({\"chart\":{\"renderTo\":\"cfood_Protein (g)\",\"type\":\"column\"},\"legend\":{\"enabled\":true},\"series\":[{\"name\":\"Protein (g)\",\"yAxis\":0,\"data\":[[\"Bia\",0.0],[\"Mu\\u1ed1i\",0.0],[\"\\u0110\\u01b0\\u1eddng c\\u00e1t tr\\u1eafng\",0.0],[\"B\\u00fan\",1.0],[\"S\\u1eefa b\\u00f2 t\\u01b0\\u01a1i\",3.0],[\"N\\u01b0\\u1edbc m\\u1eafm\",7.0],[\"X\\u00ec d\\u1ea7u\",7.0],[\"B\\u00e1nh m\\u00ec\",7.0],[\"G\\u1ea1o t\\u1ebb\",7.0],[\"\\u0110\\u1eadu ph\\u1ee5\",10.0],[\"Tr\\u1ee9ng g\\u00e0\",14.0],[\"Th\\u1ecbt heo ba ch\\u1ec9\",16.0],[\"T\\u00f4m bi\\u1ec3n\",17.0],[\"C\\u00e1 thu\",18.0],[\"C\\u00e1 r\\u00f4 phi\",19.0],[\"Th\\u1ecbt g\\u00e0 ta\",20.0],[\"Th\\u1ecbt b\\u00f2\",21.0],[\"Ch\\u1ea3 l\\u1ee5a\",21.0],[\"C\\u00e1 ng\\u1eeb\",21.0],[\"X\\u00fac x\\u00edch\",27.0]]}],\"xAxis\":{\"title\":{\"text\":\"Food Name\"},\"categories\":[\"Bia\",\"Mu\\u1ed1i\",\"\\u0110\\u01b0\\u1eddng c\\u00e1t tr\\u1eafng\",\"B\\u00fan\",\"S\\u1eefa b\\u00f2 t\\u01b0\\u01a1i\",\"N\\u01b0\\u1edbc m\\u1eafm\",\"X\\u00ec d\\u1ea7u\",\"B\\u00e1nh m\\u00ec\",\"G\\u1ea1o t\\u1ebb\",\"\\u0110\\u1eadu ph\\u1ee5\",\"Tr\\u1ee9ng g\\u00e0\",\"Th\\u1ecbt heo ba ch\\u1ec9\",\"T\\u00f4m bi\\u1ec3n\",\"C\\u00e1 thu\",\"C\\u00e1 r\\u00f4 phi\",\"Th\\u1ecbt g\\u00e0 ta\",\"Th\\u1ecbt b\\u00f2\",\"Ch\\u1ea3 l\\u1ee5a\",\"C\\u00e1 ng\\u1eeb\",\"X\\u00fac x\\u00edch\"],\"type\":\"category\"},\"yAxis\":[{}],\"title\":{\"text\":[\"Distribution of Protein (g)\"]},\"subtitle\":{\"text\":\"of common food\"},\"plotOptions\":{\"series\":{\"borderWidth\":0,\"dataLabels\":{\"enabled\":\"true\"}}},\"tooltip\":{\"headerFormat\":\"<span style=\\\"font-size:11px\\\"><b>Protein (g)<\\/b><\\/span><br>\",\"pointFormat\":\"<span style=\\\"color:{point.color}\\\">{point.name}<\\/span>: <b>{point.y}<\\/b><br\\/>\"}});</script>        \n",
              "    "
            ],
            "text/plain": [
              "<IPython.core.display.HTML object>"
            ]
          },
          "metadata": {
            "tags": []
          }
        },
        {
          "output_type": "display_data",
          "data": {
            "text/html": [
              "\n",
              "    <meta charset=\"utf-8\"> \n",
              "    <div id=\"cfood_Fat (g)\"</div>\n",
              "    <script src=\"//code.highcharts.com/stock/highstock.js\"></script><script src=\"//code.highcharts.com/highcharts-more.js\"></script>\n",
              "    <script src=\"//code.highcharts.com/modules/exporting.js\"></script><script type=\"text/javascript\">new Highcharts.Chart({\"chart\":{\"renderTo\":\"cfood_Fat (g)\",\"type\":\"column\"},\"legend\":{\"enabled\":true},\"series\":[{\"name\":\"Fat (g)\",\"yAxis\":0,\"data\":[[\"B\\u00e1nh m\\u00ec\",0.0],[\"N\\u01b0\\u1edbc m\\u1eafm\",0.0],[\"Mu\\u1ed1i\",0.0],[\"\\u0110\\u01b0\\u1eddng c\\u00e1t tr\\u1eafng\",0.0],[\"T\\u00f4m bi\\u1ec3n\",0.0],[\"X\\u00ec d\\u1ea7u\",0.0],[\"C\\u00e1 ng\\u1eeb\",0.0],[\"B\\u00fan\",0.0],[\"Bia\",0.0],[\"G\\u1ea1o t\\u1ebb\",1.0],[\"C\\u00e1 r\\u00f4 phi\",2.0],[\"Th\\u1ecbt b\\u00f2\",3.0],[\"S\\u1eefa b\\u00f2 t\\u01b0\\u01a1i\",4.0],[\"Ch\\u1ea3 l\\u1ee5a\",5.0],[\"\\u0110\\u1eadu ph\\u1ee5\",5.0],[\"C\\u00e1 thu\",10.0],[\"Tr\\u1ee9ng g\\u00e0\",11.0],[\"Th\\u1ecbt g\\u00e0 ta\",13.0],[\"Th\\u1ecbt heo ba ch\\u1ec9\",21.0],[\"X\\u00fac x\\u00edch\",47.0]]}],\"xAxis\":{\"title\":{\"text\":\"Food Name\"},\"categories\":[\"B\\u00e1nh m\\u00ec\",\"N\\u01b0\\u1edbc m\\u1eafm\",\"Mu\\u1ed1i\",\"\\u0110\\u01b0\\u1eddng c\\u00e1t tr\\u1eafng\",\"T\\u00f4m bi\\u1ec3n\",\"X\\u00ec d\\u1ea7u\",\"C\\u00e1 ng\\u1eeb\",\"B\\u00fan\",\"Bia\",\"G\\u1ea1o t\\u1ebb\",\"C\\u00e1 r\\u00f4 phi\",\"Th\\u1ecbt b\\u00f2\",\"S\\u1eefa b\\u00f2 t\\u01b0\\u01a1i\",\"Ch\\u1ea3 l\\u1ee5a\",\"\\u0110\\u1eadu ph\\u1ee5\",\"C\\u00e1 thu\",\"Tr\\u1ee9ng g\\u00e0\",\"Th\\u1ecbt g\\u00e0 ta\",\"Th\\u1ecbt heo ba ch\\u1ec9\",\"X\\u00fac x\\u00edch\"],\"type\":\"category\"},\"yAxis\":[{}],\"title\":{\"text\":[\"Distribution of Fat (g)\"]},\"subtitle\":{\"text\":\"of common food\"},\"plotOptions\":{\"series\":{\"borderWidth\":0,\"dataLabels\":{\"enabled\":\"true\"}}},\"tooltip\":{\"headerFormat\":\"<span style=\\\"font-size:11px\\\"><b>Fat (g)<\\/b><\\/span><br>\",\"pointFormat\":\"<span style=\\\"color:{point.color}\\\">{point.name}<\\/span>: <b>{point.y}<\\/b><br\\/>\"}});</script>        \n",
              "    "
            ],
            "text/plain": [
              "<IPython.core.display.HTML object>"
            ]
          },
          "metadata": {
            "tags": []
          }
        },
        {
          "output_type": "display_data",
          "data": {
            "text/html": [
              "\n",
              "    <meta charset=\"utf-8\"> \n",
              "    <div id=\"cfood_Carbonhydrates (g)\"</div>\n",
              "    <script src=\"//code.highcharts.com/stock/highstock.js\"></script><script src=\"//code.highcharts.com/highcharts-more.js\"></script>\n",
              "    <script src=\"//code.highcharts.com/modules/exporting.js\"></script><script type=\"text/javascript\">new Highcharts.Chart({\"chart\":{\"renderTo\":\"cfood_Carbonhydrates (g)\",\"type\":\"column\"},\"legend\":{\"enabled\":true},\"series\":[{\"name\":\"Carbonhydrates (g)\",\"yAxis\":0,\"data\":[[\"C\\u00e1 ng\\u1eeb\",0.0],[\"N\\u01b0\\u1edbc m\\u1eafm\",0.0],[\"Mu\\u1ed1i\",0.0],[\"\\u0110\\u1eadu ph\\u1ee5\",0.0],[\"Th\\u1ecbt b\\u00f2\",0.0],[\"Th\\u1ecbt g\\u00e0 ta\",0.0],[\"Th\\u1ecbt heo ba ch\\u1ec9\",0.0],[\"Ch\\u1ea3 l\\u1ee5a\",0.0],[\"X\\u00fac x\\u00edch\",0.0],[\"X\\u00ec d\\u1ea7u\",0.0],[\"C\\u00e1 r\\u00f4 phi\",0.0],[\"C\\u00e1 thu\",0.0],[\"T\\u00f4m bi\\u1ec3n\",0.0],[\"Tr\\u1ee9ng g\\u00e0\",0.0],[\"Bia\",2.0],[\"S\\u1eefa b\\u00f2 t\\u01b0\\u01a1i\",4.0],[\"B\\u00fan\",25.0],[\"B\\u00e1nh m\\u00ec\",52.0],[\"G\\u1ea1o t\\u1ebb\",76.0],[\"\\u0110\\u01b0\\u1eddng c\\u00e1t tr\\u1eafng\",99.0]]}],\"xAxis\":{\"title\":{\"text\":\"Food Name\"},\"categories\":[\"C\\u00e1 ng\\u1eeb\",\"N\\u01b0\\u1edbc m\\u1eafm\",\"Mu\\u1ed1i\",\"\\u0110\\u1eadu ph\\u1ee5\",\"Th\\u1ecbt b\\u00f2\",\"Th\\u1ecbt g\\u00e0 ta\",\"Th\\u1ecbt heo ba ch\\u1ec9\",\"Ch\\u1ea3 l\\u1ee5a\",\"X\\u00fac x\\u00edch\",\"X\\u00ec d\\u1ea7u\",\"C\\u00e1 r\\u00f4 phi\",\"C\\u00e1 thu\",\"T\\u00f4m bi\\u1ec3n\",\"Tr\\u1ee9ng g\\u00e0\",\"Bia\",\"S\\u1eefa b\\u00f2 t\\u01b0\\u01a1i\",\"B\\u00fan\",\"B\\u00e1nh m\\u00ec\",\"G\\u1ea1o t\\u1ebb\",\"\\u0110\\u01b0\\u1eddng c\\u00e1t tr\\u1eafng\"],\"type\":\"category\"},\"yAxis\":[{}],\"title\":{\"text\":[\"Distribution of Carbonhydrates (g)\"]},\"subtitle\":{\"text\":\"of common food\"},\"plotOptions\":{\"series\":{\"borderWidth\":0,\"dataLabels\":{\"enabled\":\"true\"}}},\"tooltip\":{\"headerFormat\":\"<span style=\\\"font-size:11px\\\"><b>Carbonhydrates (g)<\\/b><\\/span><br>\",\"pointFormat\":\"<span style=\\\"color:{point.color}\\\">{point.name}<\\/span>: <b>{point.y}<\\/b><br\\/>\"}});</script>        \n",
              "    "
            ],
            "text/plain": [
              "<IPython.core.display.HTML object>"
            ]
          },
          "metadata": {
            "tags": []
          }
        },
        {
          "output_type": "display_data",
          "data": {
            "text/html": [
              "\n",
              "    <meta charset=\"utf-8\"> \n",
              "    <div id=\"cfood_Chất xơ (g)\"</div>\n",
              "    <script src=\"//code.highcharts.com/stock/highstock.js\"></script><script src=\"//code.highcharts.com/highcharts-more.js\"></script>\n",
              "    <script src=\"//code.highcharts.com/modules/exporting.js\"></script><script type=\"text/javascript\">new Highcharts.Chart({\"chart\":{\"renderTo\":\"cfood_Ch\\u1ea5t x\\u01a1 (g)\",\"type\":\"column\"},\"legend\":{\"enabled\":true},\"series\":[{\"name\":\"Ch\\u1ea5t x\\u01a1 (g)\",\"yAxis\":0,\"data\":[[\"B\\u00e1nh m\\u00ec\",0.0],[\"N\\u01b0\\u1edbc m\\u1eafm\",0.0],[\"Mu\\u1ed1i\",0.0],[\"\\u0110\\u01b0\\u1eddng c\\u00e1t tr\\u1eafng\",0.0],[\"S\\u1eefa b\\u00f2 t\\u01b0\\u01a1i\",0.0],[\"Tr\\u1ee9ng g\\u00e0\",0.0],[\"T\\u00f4m bi\\u1ec3n\",0.0],[\"C\\u00e1 thu\",0.0],[\"C\\u00e1 r\\u00f4 phi\",0.0],[\"C\\u00e1 ng\\u1eeb\",0.0],[\"X\\u00fac x\\u00edch\",0.0],[\"Ch\\u1ea3 l\\u1ee5a\",0.0],[\"Th\\u1ecbt heo ba ch\\u1ec9\",0.0],[\"Th\\u1ecbt g\\u00e0 ta\",0.0],[\"Th\\u1ecbt b\\u00f2\",0.0],[\"\\u0110\\u1eadu ph\\u1ee5\",0.0],[\"B\\u00fan\",0.0],[\"G\\u1ea1o t\\u1ebb\",0.0],[\"X\\u00ec d\\u1ea7u\",0.0],[\"Bia\",0.0]]}],\"xAxis\":{\"title\":{\"text\":\"Food Name\"},\"categories\":[\"B\\u00e1nh m\\u00ec\",\"N\\u01b0\\u1edbc m\\u1eafm\",\"Mu\\u1ed1i\",\"\\u0110\\u01b0\\u1eddng c\\u00e1t tr\\u1eafng\",\"S\\u1eefa b\\u00f2 t\\u01b0\\u01a1i\",\"Tr\\u1ee9ng g\\u00e0\",\"T\\u00f4m bi\\u1ec3n\",\"C\\u00e1 thu\",\"C\\u00e1 r\\u00f4 phi\",\"C\\u00e1 ng\\u1eeb\",\"X\\u00fac x\\u00edch\",\"Ch\\u1ea3 l\\u1ee5a\",\"Th\\u1ecbt heo ba ch\\u1ec9\",\"Th\\u1ecbt g\\u00e0 ta\",\"Th\\u1ecbt b\\u00f2\",\"\\u0110\\u1eadu ph\\u1ee5\",\"B\\u00fan\",\"G\\u1ea1o t\\u1ebb\",\"X\\u00ec d\\u1ea7u\",\"Bia\"],\"type\":\"category\"},\"yAxis\":[{}],\"title\":{\"text\":[\"Distribution of Ch\\u1ea5t x\\u01a1 (g)\"]},\"subtitle\":{\"text\":\"of common food\"},\"plotOptions\":{\"series\":{\"borderWidth\":0,\"dataLabels\":{\"enabled\":\"true\"}}},\"tooltip\":{\"headerFormat\":\"<span style=\\\"font-size:11px\\\"><b>Ch\\u1ea5t x\\u01a1 (g)<\\/b><\\/span><br>\",\"pointFormat\":\"<span style=\\\"color:{point.color}\\\">{point.name}<\\/span>: <b>{point.y}<\\/b><br\\/>\"}});</script>        \n",
              "    "
            ],
            "text/plain": [
              "<IPython.core.display.HTML object>"
            ]
          },
          "metadata": {
            "tags": []
          }
        },
        {
          "output_type": "display_data",
          "data": {
            "text/html": [
              "\n",
              "    <meta charset=\"utf-8\"> \n",
              "    <div id=\"cfood_Cholesterol (mg)\"</div>\n",
              "    <script src=\"//code.highcharts.com/stock/highstock.js\"></script><script src=\"//code.highcharts.com/highcharts-more.js\"></script>\n",
              "    <script src=\"//code.highcharts.com/modules/exporting.js\"></script><script type=\"text/javascript\">new Highcharts.Chart({\"chart\":{\"renderTo\":\"cfood_Cholesterol (mg)\",\"type\":\"column\"},\"legend\":{\"enabled\":true},\"series\":[{\"name\":\"Cholesterol (mg)\",\"yAxis\":0,\"data\":[[\"B\\u00e1nh m\\u00ec\",0.0],[\"N\\u01b0\\u1edbc m\\u1eafm\",0.0],[\"Mu\\u1ed1i\",0.0],[\"\\u0110\\u01b0\\u1eddng c\\u00e1t tr\\u1eafng\",0.0],[\"T\\u00f4m bi\\u1ec3n\",0.0],[\"C\\u00e1 thu\",0.0],[\"C\\u00e1 r\\u00f4 phi\",0.0],[\"X\\u00ec d\\u1ea7u\",0.0],[\"C\\u00e1 ng\\u1eeb\",0.0],[\"Ch\\u1ea3 l\\u1ee5a\",0.0],[\"Th\\u1ecbt heo ba ch\\u1ec9\",0.0],[\"Th\\u1ecbt g\\u00e0 ta\",0.0],[\"\\u0110\\u1eadu ph\\u1ee5\",0.0],[\"B\\u00fan\",0.0],[\"G\\u1ea1o t\\u1ebb\",0.0],[\"X\\u00fac x\\u00edch\",0.0],[\"Bia\",0.0],[\"S\\u1eefa b\\u00f2 t\\u01b0\\u01a1i\",30.0],[\"Th\\u1ecbt b\\u00f2\",59.0],[\"Tr\\u1ee9ng g\\u00e0\",600.0]]}],\"xAxis\":{\"title\":{\"text\":\"Food Name\"},\"categories\":[\"B\\u00e1nh m\\u00ec\",\"N\\u01b0\\u1edbc m\\u1eafm\",\"Mu\\u1ed1i\",\"\\u0110\\u01b0\\u1eddng c\\u00e1t tr\\u1eafng\",\"T\\u00f4m bi\\u1ec3n\",\"C\\u00e1 thu\",\"C\\u00e1 r\\u00f4 phi\",\"X\\u00ec d\\u1ea7u\",\"C\\u00e1 ng\\u1eeb\",\"Ch\\u1ea3 l\\u1ee5a\",\"Th\\u1ecbt heo ba ch\\u1ec9\",\"Th\\u1ecbt g\\u00e0 ta\",\"\\u0110\\u1eadu ph\\u1ee5\",\"B\\u00fan\",\"G\\u1ea1o t\\u1ebb\",\"X\\u00fac x\\u00edch\",\"Bia\",\"S\\u1eefa b\\u00f2 t\\u01b0\\u01a1i\",\"Th\\u1ecbt b\\u00f2\",\"Tr\\u1ee9ng g\\u00e0\"],\"type\":\"category\"},\"yAxis\":[{}],\"title\":{\"text\":[\"Distribution of Cholesterol (mg)\"]},\"subtitle\":{\"text\":\"of common food\"},\"plotOptions\":{\"series\":{\"borderWidth\":0,\"dataLabels\":{\"enabled\":\"true\"}}},\"tooltip\":{\"headerFormat\":\"<span style=\\\"font-size:11px\\\"><b>Cholesterol (mg)<\\/b><\\/span><br>\",\"pointFormat\":\"<span style=\\\"color:{point.color}\\\">{point.name}<\\/span>: <b>{point.y}<\\/b><br\\/>\"}});</script>        \n",
              "    "
            ],
            "text/plain": [
              "<IPython.core.display.HTML object>"
            ]
          },
          "metadata": {
            "tags": []
          }
        },
        {
          "output_type": "display_data",
          "data": {
            "text/html": [
              "\n",
              "    <meta charset=\"utf-8\"> \n",
              "    <div id=\"cfood_Canxi (mg)\"</div>\n",
              "    <script src=\"//code.highcharts.com/stock/highstock.js\"></script><script src=\"//code.highcharts.com/highcharts-more.js\"></script>\n",
              "    <script src=\"//code.highcharts.com/modules/exporting.js\"></script><script type=\"text/javascript\">new Highcharts.Chart({\"chart\":{\"renderTo\":\"cfood_Canxi (mg)\",\"type\":\"column\"},\"legend\":{\"enabled\":true},\"series\":[{\"name\":\"Canxi (mg)\",\"yAxis\":0,\"data\":[[\"\\u0110\\u01b0\\u1eddng c\\u00e1t tr\\u1eafng\",0.0],[\"Ch\\u1ea3 l\\u1ee5a\",0.0],[\"Bia\",6.0],[\"X\\u00fac x\\u00edch\",7.0],[\"Th\\u1ecbt heo ba ch\\u1ec9\",9.0],[\"B\\u00fan\",12.0],[\"Th\\u1ecbt b\\u00f2\",12.0],[\"Th\\u1ecbt g\\u00e0 ta\",12.0],[\"\\u0110\\u1eadu ph\\u1ee5\",24.0],[\"B\\u00e1nh m\\u00ec\",28.0],[\"G\\u1ea1o t\\u1ebb\",30.0],[\"C\\u00e1 ng\\u1eeb\",44.0],[\"C\\u00e1 r\\u00f4 phi\",50.0],[\"C\\u00e1 thu\",50.0],[\"Tr\\u1ee9ng g\\u00e0\",55.0],[\"X\\u00ec d\\u1ea7u\",59.0],[\"T\\u00f4m bi\\u1ec3n\",79.0],[\"S\\u1eefa b\\u00f2 t\\u01b0\\u01a1i\",120.0],[\"Mu\\u1ed1i\",150.0],[\"N\\u01b0\\u1edbc m\\u1eafm\",387.0]]}],\"xAxis\":{\"title\":{\"text\":\"Food Name\"},\"categories\":[\"\\u0110\\u01b0\\u1eddng c\\u00e1t tr\\u1eafng\",\"Ch\\u1ea3 l\\u1ee5a\",\"Bia\",\"X\\u00fac x\\u00edch\",\"Th\\u1ecbt heo ba ch\\u1ec9\",\"B\\u00fan\",\"Th\\u1ecbt b\\u00f2\",\"Th\\u1ecbt g\\u00e0 ta\",\"\\u0110\\u1eadu ph\\u1ee5\",\"B\\u00e1nh m\\u00ec\",\"G\\u1ea1o t\\u1ebb\",\"C\\u00e1 ng\\u1eeb\",\"C\\u00e1 r\\u00f4 phi\",\"C\\u00e1 thu\",\"Tr\\u1ee9ng g\\u00e0\",\"X\\u00ec d\\u1ea7u\",\"T\\u00f4m bi\\u1ec3n\",\"S\\u1eefa b\\u00f2 t\\u01b0\\u01a1i\",\"Mu\\u1ed1i\",\"N\\u01b0\\u1edbc m\\u1eafm\"],\"type\":\"category\"},\"yAxis\":[{}],\"title\":{\"text\":[\"Distribution of Canxi (mg)\"]},\"subtitle\":{\"text\":\"of common food\"},\"plotOptions\":{\"series\":{\"borderWidth\":0,\"dataLabels\":{\"enabled\":\"true\"}}},\"tooltip\":{\"headerFormat\":\"<span style=\\\"font-size:11px\\\"><b>Canxi (mg)<\\/b><\\/span><br>\",\"pointFormat\":\"<span style=\\\"color:{point.color}\\\">{point.name}<\\/span>: <b>{point.y}<\\/b><br\\/>\"}});</script>        \n",
              "    "
            ],
            "text/plain": [
              "<IPython.core.display.HTML object>"
            ]
          },
          "metadata": {
            "tags": []
          }
        },
        {
          "output_type": "display_data",
          "data": {
            "text/html": [
              "\n",
              "    <meta charset=\"utf-8\"> \n",
              "    <div id=\"cfood_Photpho (mg)\"</div>\n",
              "    <script src=\"//code.highcharts.com/stock/highstock.js\"></script><script src=\"//code.highcharts.com/highcharts-more.js\"></script>\n",
              "    <script src=\"//code.highcharts.com/modules/exporting.js\"></script><script type=\"text/javascript\">new Highcharts.Chart({\"chart\":{\"renderTo\":\"cfood_Photpho (mg)\",\"type\":\"column\"},\"legend\":{\"enabled\":true},\"series\":[{\"name\":\"Photpho (mg)\",\"yAxis\":0,\"data\":[[\"\\u0110\\u01b0\\u1eddng c\\u00e1t tr\\u1eafng\",0.0],[\"Ch\\u1ea3 l\\u1ee5a\",0.0],[\"Bia\",26.0],[\"B\\u00fan\",32.0],[\"Mu\\u1ed1i\",70.0],[\"\\u0110\\u1eadu ph\\u1ee5\",85.0],[\"C\\u00e1 thu\",90.0],[\"S\\u1eefa b\\u00f2 t\\u01b0\\u01a1i\",95.0],[\"X\\u00ec d\\u1ea7u\",100.0],[\"G\\u1ea1o t\\u1ebb\",104.0],[\"X\\u00fac x\\u00edch\",139.0],[\"C\\u00e1 r\\u00f4 phi\",147.0],[\"B\\u00e1nh m\\u00ec\",164.0],[\"Th\\u1ecbt heo ba ch\\u1ec9\",178.0],[\"T\\u00f4m bi\\u1ec3n\",184.0],[\"Th\\u1ecbt g\\u00e0 ta\",200.0],[\"C\\u00e1 ng\\u1eeb\",206.0],[\"Tr\\u1ee9ng g\\u00e0\",210.0],[\"Th\\u1ecbt b\\u00f2\",226.0],[\"N\\u01b0\\u1edbc m\\u1eafm\",246.0]]}],\"xAxis\":{\"title\":{\"text\":\"Food Name\"},\"categories\":[\"\\u0110\\u01b0\\u1eddng c\\u00e1t tr\\u1eafng\",\"Ch\\u1ea3 l\\u1ee5a\",\"Bia\",\"B\\u00fan\",\"Mu\\u1ed1i\",\"\\u0110\\u1eadu ph\\u1ee5\",\"C\\u00e1 thu\",\"S\\u1eefa b\\u00f2 t\\u01b0\\u01a1i\",\"X\\u00ec d\\u1ea7u\",\"G\\u1ea1o t\\u1ebb\",\"X\\u00fac x\\u00edch\",\"C\\u00e1 r\\u00f4 phi\",\"B\\u00e1nh m\\u00ec\",\"Th\\u1ecbt heo ba ch\\u1ec9\",\"T\\u00f4m bi\\u1ec3n\",\"Th\\u1ecbt g\\u00e0 ta\",\"C\\u00e1 ng\\u1eeb\",\"Tr\\u1ee9ng g\\u00e0\",\"Th\\u1ecbt b\\u00f2\",\"N\\u01b0\\u1edbc m\\u1eafm\"],\"type\":\"category\"},\"yAxis\":[{}],\"title\":{\"text\":[\"Distribution of Photpho (mg)\"]},\"subtitle\":{\"text\":\"of common food\"},\"plotOptions\":{\"series\":{\"borderWidth\":0,\"dataLabels\":{\"enabled\":\"true\"}}},\"tooltip\":{\"headerFormat\":\"<span style=\\\"font-size:11px\\\"><b>Photpho (mg)<\\/b><\\/span><br>\",\"pointFormat\":\"<span style=\\\"color:{point.color}\\\">{point.name}<\\/span>: <b>{point.y}<\\/b><br\\/>\"}});</script>        \n",
              "    "
            ],
            "text/plain": [
              "<IPython.core.display.HTML object>"
            ]
          },
          "metadata": {
            "tags": []
          }
        },
        {
          "output_type": "display_data",
          "data": {
            "text/html": [
              "\n",
              "    <meta charset=\"utf-8\"> \n",
              "    <div id=\"cfood_Sắt (mg)\"</div>\n",
              "    <script src=\"//code.highcharts.com/stock/highstock.js\"></script><script src=\"//code.highcharts.com/highcharts-more.js\"></script>\n",
              "    <script src=\"//code.highcharts.com/modules/exporting.js\"></script><script type=\"text/javascript\">new Highcharts.Chart({\"chart\":{\"renderTo\":\"cfood_S\\u1eaft (mg)\",\"type\":\"column\"},\"legend\":{\"enabled\":true},\"series\":[{\"name\":\"S\\u1eaft (mg)\",\"yAxis\":0,\"data\":[[\"Bia\",0.0],[\"Mu\\u1ed1i\",0.0],[\"B\\u00fan\",0.0],[\"\\u0110\\u01b0\\u1eddng c\\u00e1t tr\\u1eafng\",0.0],[\"S\\u1eefa b\\u00f2 t\\u01b0\\u01a1i\",0.0],[\"Ch\\u1ea3 l\\u1ee5a\",0.0],[\"C\\u00e1 r\\u00f4 phi\",0.0],[\"T\\u00f4m bi\\u1ec3n\",1.0],[\"C\\u00e1 thu\",1.0],[\"C\\u00e1 ng\\u1eeb\",1.0],[\"X\\u00fac x\\u00edch\",1.0],[\"Th\\u1ecbt heo ba ch\\u1ec9\",1.0],[\"Th\\u1ecbt g\\u00e0 ta\",1.0],[\"G\\u1ea1o t\\u1ebb\",1.0],[\"Tr\\u1ee9ng g\\u00e0\",2.0],[\"\\u0110\\u1eadu ph\\u1ee5\",2.0],[\"N\\u01b0\\u1edbc m\\u1eafm\",2.0],[\"B\\u00e1nh m\\u00ec\",2.0],[\"Th\\u1ecbt b\\u00f2\",3.0],[\"X\\u00ec d\\u1ea7u\",4.0]]}],\"xAxis\":{\"title\":{\"text\":\"Food Name\"},\"categories\":[\"Bia\",\"Mu\\u1ed1i\",\"B\\u00fan\",\"\\u0110\\u01b0\\u1eddng c\\u00e1t tr\\u1eafng\",\"S\\u1eefa b\\u00f2 t\\u01b0\\u01a1i\",\"Ch\\u1ea3 l\\u1ee5a\",\"C\\u00e1 r\\u00f4 phi\",\"T\\u00f4m bi\\u1ec3n\",\"C\\u00e1 thu\",\"C\\u00e1 ng\\u1eeb\",\"X\\u00fac x\\u00edch\",\"Th\\u1ecbt heo ba ch\\u1ec9\",\"Th\\u1ecbt g\\u00e0 ta\",\"G\\u1ea1o t\\u1ebb\",\"Tr\\u1ee9ng g\\u00e0\",\"\\u0110\\u1eadu ph\\u1ee5\",\"N\\u01b0\\u1edbc m\\u1eafm\",\"B\\u00e1nh m\\u00ec\",\"Th\\u1ecbt b\\u00f2\",\"X\\u00ec d\\u1ea7u\"],\"type\":\"category\"},\"yAxis\":[{}],\"title\":{\"text\":[\"Distribution of S\\u1eaft (mg)\"]},\"subtitle\":{\"text\":\"of common food\"},\"plotOptions\":{\"series\":{\"borderWidth\":0,\"dataLabels\":{\"enabled\":\"true\"}}},\"tooltip\":{\"headerFormat\":\"<span style=\\\"font-size:11px\\\"><b>S\\u1eaft (mg)<\\/b><\\/span><br>\",\"pointFormat\":\"<span style=\\\"color:{point.color}\\\">{point.name}<\\/span>: <b>{point.y}<\\/b><br\\/>\"}});</script>        \n",
              "    "
            ],
            "text/plain": [
              "<IPython.core.display.HTML object>"
            ]
          },
          "metadata": {
            "tags": []
          }
        },
        {
          "output_type": "display_data",
          "data": {
            "text/html": [
              "\n",
              "    <meta charset=\"utf-8\"> \n",
              "    <div id=\"cfood_Natri (mg)\"</div>\n",
              "    <script src=\"//code.highcharts.com/stock/highstock.js\"></script><script src=\"//code.highcharts.com/highcharts-more.js\"></script>\n",
              "    <script src=\"//code.highcharts.com/modules/exporting.js\"></script><script type=\"text/javascript\">new Highcharts.Chart({\"chart\":{\"renderTo\":\"cfood_Natri (mg)\",\"type\":\"column\"},\"legend\":{\"enabled\":true},\"series\":[{\"name\":\"Natri (mg)\",\"yAxis\":0,\"data\":[[\"B\\u00e1nh m\\u00ec\",0.0],[\"\\u0110\\u01b0\\u1eddng c\\u00e1t tr\\u1eafng\",0.0],[\"T\\u00f4m bi\\u1ec3n\",0.0],[\"C\\u00e1 r\\u00f4 phi\",0.0],[\"X\\u00ec d\\u1ea7u\",0.0],[\"X\\u00fac x\\u00edch\",0.0],[\"Ch\\u1ea3 l\\u1ee5a\",0.0],[\"Bia\",0.0],[\"Th\\u1ecbt g\\u00e0 ta\",0.0],[\"\\u0110\\u1eadu ph\\u1ee5\",0.0],[\"B\\u00fan\",0.0],[\"Th\\u1ecbt heo ba ch\\u1ec9\",0.0],[\"G\\u1ea1o t\\u1ebb\",5.0],[\"Mu\\u1ed1i\",39.0],[\"C\\u00e1 ng\\u1eeb\",78.0],[\"Th\\u1ecbt b\\u00f2\",83.0],[\"C\\u00e1 thu\",110.0],[\"Tr\\u1ee9ng g\\u00e0\",158.0],[\"S\\u1eefa b\\u00f2 t\\u01b0\\u01a1i\",380.0],[\"N\\u01b0\\u1edbc m\\u1eafm\",4926.0]]}],\"xAxis\":{\"title\":{\"text\":\"Food Name\"},\"categories\":[\"B\\u00e1nh m\\u00ec\",\"\\u0110\\u01b0\\u1eddng c\\u00e1t tr\\u1eafng\",\"T\\u00f4m bi\\u1ec3n\",\"C\\u00e1 r\\u00f4 phi\",\"X\\u00ec d\\u1ea7u\",\"X\\u00fac x\\u00edch\",\"Ch\\u1ea3 l\\u1ee5a\",\"Bia\",\"Th\\u1ecbt g\\u00e0 ta\",\"\\u0110\\u1eadu ph\\u1ee5\",\"B\\u00fan\",\"Th\\u1ecbt heo ba ch\\u1ec9\",\"G\\u1ea1o t\\u1ebb\",\"Mu\\u1ed1i\",\"C\\u00e1 ng\\u1eeb\",\"Th\\u1ecbt b\\u00f2\",\"C\\u00e1 thu\",\"Tr\\u1ee9ng g\\u00e0\",\"S\\u1eefa b\\u00f2 t\\u01b0\\u01a1i\",\"N\\u01b0\\u1edbc m\\u1eafm\"],\"type\":\"category\"},\"yAxis\":[{}],\"title\":{\"text\":[\"Distribution of Natri (mg)\"]},\"subtitle\":{\"text\":\"of common food\"},\"plotOptions\":{\"series\":{\"borderWidth\":0,\"dataLabels\":{\"enabled\":\"true\"}}},\"tooltip\":{\"headerFormat\":\"<span style=\\\"font-size:11px\\\"><b>Natri (mg)<\\/b><\\/span><br>\",\"pointFormat\":\"<span style=\\\"color:{point.color}\\\">{point.name}<\\/span>: <b>{point.y}<\\/b><br\\/>\"}});</script>        \n",
              "    "
            ],
            "text/plain": [
              "<IPython.core.display.HTML object>"
            ]
          },
          "metadata": {
            "tags": []
          }
        },
        {
          "output_type": "display_data",
          "data": {
            "text/html": [
              "\n",
              "    <meta charset=\"utf-8\"> \n",
              "    <div id=\"cfood_Kali (mg)\"</div>\n",
              "    <script src=\"//code.highcharts.com/stock/highstock.js\"></script><script src=\"//code.highcharts.com/highcharts-more.js\"></script>\n",
              "    <script src=\"//code.highcharts.com/modules/exporting.js\"></script><script type=\"text/javascript\">new Highcharts.Chart({\"chart\":{\"renderTo\":\"cfood_Kali (mg)\",\"type\":\"column\"},\"legend\":{\"enabled\":true},\"series\":[{\"name\":\"Kali (mg)\",\"yAxis\":0,\"data\":[[\"B\\u00e1nh m\\u00ec\",0.0],[\"N\\u01b0\\u1edbc m\\u1eafm\",0.0],[\"Mu\\u1ed1i\",0.0],[\"\\u0110\\u01b0\\u1eddng c\\u00e1t tr\\u1eafng\",0.0],[\"S\\u1eefa b\\u00f2 t\\u01b0\\u01a1i\",0.0],[\"T\\u00f4m bi\\u1ec3n\",0.0],[\"C\\u00e1 r\\u00f4 phi\",0.0],[\"X\\u00ec d\\u1ea7u\",0.0],[\"Bia\",0.0],[\"Ch\\u1ea3 l\\u1ee5a\",0.0],[\"Th\\u1ecbt heo ba ch\\u1ec9\",0.0],[\"Th\\u1ecbt g\\u00e0 ta\",0.0],[\"\\u0110\\u1eadu ph\\u1ee5\",0.0],[\"B\\u00fan\",0.0],[\"X\\u00fac x\\u00edch\",0.0],[\"Tr\\u1ee9ng g\\u00e0\",176.0],[\"G\\u1ea1o t\\u1ebb\",241.0],[\"Th\\u1ecbt b\\u00f2\",378.0],[\"C\\u00e1 thu\",486.0],[\"C\\u00e1 ng\\u1eeb\",518.0]]}],\"xAxis\":{\"title\":{\"text\":\"Food Name\"},\"categories\":[\"B\\u00e1nh m\\u00ec\",\"N\\u01b0\\u1edbc m\\u1eafm\",\"Mu\\u1ed1i\",\"\\u0110\\u01b0\\u1eddng c\\u00e1t tr\\u1eafng\",\"S\\u1eefa b\\u00f2 t\\u01b0\\u01a1i\",\"T\\u00f4m bi\\u1ec3n\",\"C\\u00e1 r\\u00f4 phi\",\"X\\u00ec d\\u1ea7u\",\"Bia\",\"Ch\\u1ea3 l\\u1ee5a\",\"Th\\u1ecbt heo ba ch\\u1ec9\",\"Th\\u1ecbt g\\u00e0 ta\",\"\\u0110\\u1eadu ph\\u1ee5\",\"B\\u00fan\",\"X\\u00fac x\\u00edch\",\"Tr\\u1ee9ng g\\u00e0\",\"G\\u1ea1o t\\u1ebb\",\"Th\\u1ecbt b\\u00f2\",\"C\\u00e1 thu\",\"C\\u00e1 ng\\u1eeb\"],\"type\":\"category\"},\"yAxis\":[{}],\"title\":{\"text\":[\"Distribution of Kali (mg)\"]},\"subtitle\":{\"text\":\"of common food\"},\"plotOptions\":{\"series\":{\"borderWidth\":0,\"dataLabels\":{\"enabled\":\"true\"}}},\"tooltip\":{\"headerFormat\":\"<span style=\\\"font-size:11px\\\"><b>Kali (mg)<\\/b><\\/span><br>\",\"pointFormat\":\"<span style=\\\"color:{point.color}\\\">{point.name}<\\/span>: <b>{point.y}<\\/b><br\\/>\"}});</script>        \n",
              "    "
            ],
            "text/plain": [
              "<IPython.core.display.HTML object>"
            ]
          },
          "metadata": {
            "tags": []
          }
        },
        {
          "output_type": "display_data",
          "data": {
            "text/html": [
              "\n",
              "    <meta charset=\"utf-8\"> \n",
              "    <div id=\"cfood_Beta Caroten (mcg)\"</div>\n",
              "    <script src=\"//code.highcharts.com/stock/highstock.js\"></script><script src=\"//code.highcharts.com/highcharts-more.js\"></script>\n",
              "    <script src=\"//code.highcharts.com/modules/exporting.js\"></script><script type=\"text/javascript\">new Highcharts.Chart({\"chart\":{\"renderTo\":\"cfood_Beta Caroten (mcg)\",\"type\":\"column\"},\"legend\":{\"enabled\":true},\"series\":[{\"name\":\"Beta Caroten (mcg)\",\"yAxis\":0,\"data\":[[\"B\\u00e1nh m\\u00ec\",0.0],[\"N\\u01b0\\u1edbc m\\u1eafm\",0.0],[\"Mu\\u1ed1i\",0.0],[\"\\u0110\\u01b0\\u1eddng c\\u00e1t tr\\u1eafng\",0.0],[\"C\\u00e1 thu\",0.0],[\"C\\u00e1 r\\u00f4 phi\",0.0],[\"X\\u00ec d\\u1ea7u\",0.0],[\"X\\u00fac x\\u00edch\",0.0],[\"C\\u00e1 ng\\u1eeb\",0.0],[\"Th\\u1ecbt heo ba ch\\u1ec9\",0.0],[\"Th\\u1ecbt g\\u00e0 ta\",0.0],[\"Th\\u1ecbt b\\u00f2\",0.0],[\"\\u0110\\u1eadu ph\\u1ee5\",0.0],[\"B\\u00fan\",0.0],[\"G\\u1ea1o t\\u1ebb\",0.0],[\"Ch\\u1ea3 l\\u1ee5a\",0.0],[\"Bia\",0.0],[\"T\\u00f4m bi\\u1ec3n\",5.0],[\"S\\u1eefa b\\u00f2 t\\u01b0\\u01a1i\",22.0],[\"Tr\\u1ee9ng g\\u00e0\",281.0]]}],\"xAxis\":{\"title\":{\"text\":\"Food Name\"},\"categories\":[\"B\\u00e1nh m\\u00ec\",\"N\\u01b0\\u1edbc m\\u1eafm\",\"Mu\\u1ed1i\",\"\\u0110\\u01b0\\u1eddng c\\u00e1t tr\\u1eafng\",\"C\\u00e1 thu\",\"C\\u00e1 r\\u00f4 phi\",\"X\\u00ec d\\u1ea7u\",\"X\\u00fac x\\u00edch\",\"C\\u00e1 ng\\u1eeb\",\"Th\\u1ecbt heo ba ch\\u1ec9\",\"Th\\u1ecbt g\\u00e0 ta\",\"Th\\u1ecbt b\\u00f2\",\"\\u0110\\u1eadu ph\\u1ee5\",\"B\\u00fan\",\"G\\u1ea1o t\\u1ebb\",\"Ch\\u1ea3 l\\u1ee5a\",\"Bia\",\"T\\u00f4m bi\\u1ec3n\",\"S\\u1eefa b\\u00f2 t\\u01b0\\u01a1i\",\"Tr\\u1ee9ng g\\u00e0\"],\"type\":\"category\"},\"yAxis\":[{}],\"title\":{\"text\":[\"Distribution of Beta Caroten (mcg)\"]},\"subtitle\":{\"text\":\"of common food\"},\"plotOptions\":{\"series\":{\"borderWidth\":0,\"dataLabels\":{\"enabled\":\"true\"}}},\"tooltip\":{\"headerFormat\":\"<span style=\\\"font-size:11px\\\"><b>Beta Caroten (mcg)<\\/b><\\/span><br>\",\"pointFormat\":\"<span style=\\\"color:{point.color}\\\">{point.name}<\\/span>: <b>{point.y}<\\/b><br\\/>\"}});</script>        \n",
              "    "
            ],
            "text/plain": [
              "<IPython.core.display.HTML object>"
            ]
          },
          "metadata": {
            "tags": []
          }
        },
        {
          "output_type": "display_data",
          "data": {
            "text/html": [
              "\n",
              "    <meta charset=\"utf-8\"> \n",
              "    <div id=\"cfood_Vitamin A (mcg)\"</div>\n",
              "    <script src=\"//code.highcharts.com/stock/highstock.js\"></script><script src=\"//code.highcharts.com/highcharts-more.js\"></script>\n",
              "    <script src=\"//code.highcharts.com/modules/exporting.js\"></script><script type=\"text/javascript\">new Highcharts.Chart({\"chart\":{\"renderTo\":\"cfood_Vitamin A (mcg)\",\"type\":\"column\"},\"legend\":{\"enabled\":true},\"series\":[{\"name\":\"Vitamin A (mcg)\",\"yAxis\":0,\"data\":[[\"B\\u00e1nh m\\u00ec\",0.0],[\"N\\u01b0\\u1edbc m\\u1eafm\",0.0],[\"Mu\\u1ed1i\",0.0],[\"\\u0110\\u01b0\\u1eddng c\\u00e1t tr\\u1eafng\",0.0],[\"C\\u00e1 r\\u00f4 phi\",0.0],[\"X\\u00ec d\\u1ea7u\",0.0],[\"X\\u00fac x\\u00edch\",0.0],[\"Bia\",0.0],[\"\\u0110\\u1eadu ph\\u1ee5\",0.0],[\"B\\u00fan\",0.0],[\"G\\u1ea1o t\\u1ebb\",0.0],[\"Ch\\u1ea3 l\\u1ee5a\",0.0],[\"C\\u00e1 ng\\u1eeb\",5.0],[\"Th\\u1ecbt heo ba ch\\u1ec9\",10.0],[\"C\\u00e1 thu\",10.0],[\"Th\\u1ecbt b\\u00f2\",12.0],[\"T\\u00f4m bi\\u1ec3n\",20.0],[\"S\\u1eefa b\\u00f2 t\\u01b0\\u01a1i\",50.0],[\"Th\\u1ecbt g\\u00e0 ta\",120.0],[\"Tr\\u1ee9ng g\\u00e0\",700.0]]}],\"xAxis\":{\"title\":{\"text\":\"Food Name\"},\"categories\":[\"B\\u00e1nh m\\u00ec\",\"N\\u01b0\\u1edbc m\\u1eafm\",\"Mu\\u1ed1i\",\"\\u0110\\u01b0\\u1eddng c\\u00e1t tr\\u1eafng\",\"C\\u00e1 r\\u00f4 phi\",\"X\\u00ec d\\u1ea7u\",\"X\\u00fac x\\u00edch\",\"Bia\",\"\\u0110\\u1eadu ph\\u1ee5\",\"B\\u00fan\",\"G\\u1ea1o t\\u1ebb\",\"Ch\\u1ea3 l\\u1ee5a\",\"C\\u00e1 ng\\u1eeb\",\"Th\\u1ecbt heo ba ch\\u1ec9\",\"C\\u00e1 thu\",\"Th\\u1ecbt b\\u00f2\",\"T\\u00f4m bi\\u1ec3n\",\"S\\u1eefa b\\u00f2 t\\u01b0\\u01a1i\",\"Th\\u1ecbt g\\u00e0 ta\",\"Tr\\u1ee9ng g\\u00e0\"],\"type\":\"category\"},\"yAxis\":[{}],\"title\":{\"text\":[\"Distribution of Vitamin A (mcg)\"]},\"subtitle\":{\"text\":\"of common food\"},\"plotOptions\":{\"series\":{\"borderWidth\":0,\"dataLabels\":{\"enabled\":\"true\"}}},\"tooltip\":{\"headerFormat\":\"<span style=\\\"font-size:11px\\\"><b>Vitamin A (mcg)<\\/b><\\/span><br>\",\"pointFormat\":\"<span style=\\\"color:{point.color}\\\">{point.name}<\\/span>: <b>{point.y}<\\/b><br\\/>\"}});</script>        \n",
              "    "
            ],
            "text/plain": [
              "<IPython.core.display.HTML object>"
            ]
          },
          "metadata": {
            "tags": []
          }
        },
        {
          "output_type": "display_data",
          "data": {
            "text/html": [
              "\n",
              "    <meta charset=\"utf-8\"> \n",
              "    <div id=\"cfood_Vitamin B1 (mg)\"</div>\n",
              "    <script src=\"//code.highcharts.com/stock/highstock.js\"></script><script src=\"//code.highcharts.com/highcharts-more.js\"></script>\n",
              "    <script src=\"//code.highcharts.com/modules/exporting.js\"></script><script type=\"text/javascript\">new Highcharts.Chart({\"chart\":{\"renderTo\":\"cfood_Vitamin B1 (mg)\",\"type\":\"column\"},\"legend\":{\"enabled\":true},\"series\":[{\"name\":\"Vitamin B1 (mg)\",\"yAxis\":0,\"data\":[[\"B\\u00e1nh m\\u00ec\",0.0],[\"N\\u01b0\\u1edbc m\\u1eafm\",0.0],[\"Mu\\u1ed1i\",0.0],[\"\\u0110\\u01b0\\u1eddng c\\u00e1t tr\\u1eafng\",0.0],[\"S\\u1eefa b\\u00f2 t\\u01b0\\u01a1i\",0.0],[\"Tr\\u1ee9ng g\\u00e0\",0.0],[\"T\\u00f4m bi\\u1ec3n\",0.0],[\"C\\u00e1 thu\",0.0],[\"C\\u00e1 r\\u00f4 phi\",0.0],[\"C\\u00e1 ng\\u1eeb\",0.0],[\"X\\u00fac x\\u00edch\",0.0],[\"Ch\\u1ea3 l\\u1ee5a\",0.0],[\"Th\\u1ecbt heo ba ch\\u1ec9\",0.0],[\"Th\\u1ecbt g\\u00e0 ta\",0.0],[\"Th\\u1ecbt b\\u00f2\",0.0],[\"\\u0110\\u1eadu ph\\u1ee5\",0.0],[\"B\\u00fan\",0.0],[\"G\\u1ea1o t\\u1ebb\",0.0],[\"X\\u00ec d\\u1ea7u\",0.0],[\"Bia\",0.0]]}],\"xAxis\":{\"title\":{\"text\":\"Food Name\"},\"categories\":[\"B\\u00e1nh m\\u00ec\",\"N\\u01b0\\u1edbc m\\u1eafm\",\"Mu\\u1ed1i\",\"\\u0110\\u01b0\\u1eddng c\\u00e1t tr\\u1eafng\",\"S\\u1eefa b\\u00f2 t\\u01b0\\u01a1i\",\"Tr\\u1ee9ng g\\u00e0\",\"T\\u00f4m bi\\u1ec3n\",\"C\\u00e1 thu\",\"C\\u00e1 r\\u00f4 phi\",\"C\\u00e1 ng\\u1eeb\",\"X\\u00fac x\\u00edch\",\"Ch\\u1ea3 l\\u1ee5a\",\"Th\\u1ecbt heo ba ch\\u1ec9\",\"Th\\u1ecbt g\\u00e0 ta\",\"Th\\u1ecbt b\\u00f2\",\"\\u0110\\u1eadu ph\\u1ee5\",\"B\\u00fan\",\"G\\u1ea1o t\\u1ebb\",\"X\\u00ec d\\u1ea7u\",\"Bia\"],\"type\":\"category\"},\"yAxis\":[{}],\"title\":{\"text\":[\"Distribution of Vitamin B1 (mg)\"]},\"subtitle\":{\"text\":\"of common food\"},\"plotOptions\":{\"series\":{\"borderWidth\":0,\"dataLabels\":{\"enabled\":\"true\"}}},\"tooltip\":{\"headerFormat\":\"<span style=\\\"font-size:11px\\\"><b>Vitamin B1 (mg)<\\/b><\\/span><br>\",\"pointFormat\":\"<span style=\\\"color:{point.color}\\\">{point.name}<\\/span>: <b>{point.y}<\\/b><br\\/>\"}});</script>        \n",
              "    "
            ],
            "text/plain": [
              "<IPython.core.display.HTML object>"
            ]
          },
          "metadata": {
            "tags": []
          }
        },
        {
          "output_type": "display_data",
          "data": {
            "text/html": [
              "\n",
              "    <meta charset=\"utf-8\"> \n",
              "    <div id=\"cfood_Vitamin C (mg)\"</div>\n",
              "    <script src=\"//code.highcharts.com/stock/highstock.js\"></script><script src=\"//code.highcharts.com/highcharts-more.js\"></script>\n",
              "    <script src=\"//code.highcharts.com/modules/exporting.js\"></script><script type=\"text/javascript\">new Highcharts.Chart({\"chart\":{\"renderTo\":\"cfood_Vitamin C (mg)\",\"type\":\"column\"},\"legend\":{\"enabled\":true},\"series\":[{\"name\":\"Vitamin C (mg)\",\"yAxis\":0,\"data\":[[\"B\\u00e1nh m\\u00ec\",0.0],[\"N\\u01b0\\u1edbc m\\u1eafm\",0.0],[\"Mu\\u1ed1i\",0.0],[\"\\u0110\\u01b0\\u1eddng c\\u00e1t tr\\u1eafng\",0.0],[\"Tr\\u1ee9ng g\\u00e0\",0.0],[\"T\\u00f4m bi\\u1ec3n\",0.0],[\"C\\u00e1 thu\",0.0],[\"C\\u00e1 r\\u00f4 phi\",0.0],[\"X\\u00ec d\\u1ea7u\",0.0],[\"C\\u00e1 ng\\u1eeb\",0.0],[\"Ch\\u1ea3 l\\u1ee5a\",0.0],[\"\\u0110\\u1eadu ph\\u1ee5\",0.0],[\"B\\u00fan\",0.0],[\"G\\u1ea1o t\\u1ebb\",0.0],[\"X\\u00fac x\\u00edch\",0.0],[\"Bia\",0.0],[\"Th\\u1ecbt b\\u00f2\",1.0],[\"S\\u1eefa b\\u00f2 t\\u01b0\\u01a1i\",1.0],[\"Th\\u1ecbt heo ba ch\\u1ec9\",2.0],[\"Th\\u1ecbt g\\u00e0 ta\",4.0]]}],\"xAxis\":{\"title\":{\"text\":\"Food Name\"},\"categories\":[\"B\\u00e1nh m\\u00ec\",\"N\\u01b0\\u1edbc m\\u1eafm\",\"Mu\\u1ed1i\",\"\\u0110\\u01b0\\u1eddng c\\u00e1t tr\\u1eafng\",\"Tr\\u1ee9ng g\\u00e0\",\"T\\u00f4m bi\\u1ec3n\",\"C\\u00e1 thu\",\"C\\u00e1 r\\u00f4 phi\",\"X\\u00ec d\\u1ea7u\",\"C\\u00e1 ng\\u1eeb\",\"Ch\\u1ea3 l\\u1ee5a\",\"\\u0110\\u1eadu ph\\u1ee5\",\"B\\u00fan\",\"G\\u1ea1o t\\u1ebb\",\"X\\u00fac x\\u00edch\",\"Bia\",\"Th\\u1ecbt b\\u00f2\",\"S\\u1eefa b\\u00f2 t\\u01b0\\u01a1i\",\"Th\\u1ecbt heo ba ch\\u1ec9\",\"Th\\u1ecbt g\\u00e0 ta\"],\"type\":\"category\"},\"yAxis\":[{}],\"title\":{\"text\":[\"Distribution of Vitamin C (mg)\"]},\"subtitle\":{\"text\":\"of common food\"},\"plotOptions\":{\"series\":{\"borderWidth\":0,\"dataLabels\":{\"enabled\":\"true\"}}},\"tooltip\":{\"headerFormat\":\"<span style=\\\"font-size:11px\\\"><b>Vitamin C (mg)<\\/b><\\/span><br>\",\"pointFormat\":\"<span style=\\\"color:{point.color}\\\">{point.name}<\\/span>: <b>{point.y}<\\/b><br\\/>\"}});</script>        \n",
              "    "
            ],
            "text/plain": [
              "<IPython.core.display.HTML object>"
            ]
          },
          "metadata": {
            "tags": []
          }
        }
      ]
    },
    {
      "cell_type": "code",
      "metadata": {
        "id": "xwOq9un4ELS6"
      },
      "source": [
        ""
      ],
      "id": "xwOq9un4ELS6",
      "execution_count": 27,
      "outputs": []
    },
    {
      "cell_type": "markdown",
      "metadata": {
        "id": "iy_zqqUzYfm8"
      },
      "source": [
        "### Mô hình tuyến tính"
      ],
      "id": "iy_zqqUzYfm8"
    },
    {
      "cell_type": "code",
      "metadata": {
        "id": "Rl913NpIYi_6"
      },
      "source": [
        ""
      ],
      "id": "Rl913NpIYi_6",
      "execution_count": null,
      "outputs": []
    }
  ]
}